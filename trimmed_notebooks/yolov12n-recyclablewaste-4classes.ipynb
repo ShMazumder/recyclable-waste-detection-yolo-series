{
 "cells": [
  {
   "cell_type": "code",
   "execution_count": 16,
   "metadata": {
    "_cell_guid": "b1076dfc-b9ad-4769-8c92-a6c4dae69d19",
    "_uuid": "8f2839f25d086af736a60e9eeb907d3b93b6e0e5",
    "execution": {
     "iopub.execute_input": "2025-09-20T21:01:59.034240Z",
     "iopub.status.busy": "2025-09-20T21:01:59.033918Z",
     "iopub.status.idle": "2025-09-20T21:01:59.284391Z",
     "shell.execute_reply": "2025-09-20T21:01:59.283664Z",
     "shell.execute_reply.started": "2025-09-20T21:01:59.034210Z"
    },
    "trusted": true
   },
   "outputs": [
    {
     "name": "stdout",
     "output_type": "stream",
     "text": [
      "datasets  dog.jpeg  runs  yolo12n.pt\n",
      "/kaggle/working\n"
     ]
    }
   ],
   "source": [
    "!ls\n",
    "!rm -rf jpeg\n",
    "%cd /kaggle/working/\n"
   ]
  },
  {
   "cell_type": "code",
   "execution_count": 17,
   "metadata": {
    "execution": {
     "iopub.execute_input": "2025-09-20T21:02:06.212816Z",
     "iopub.status.busy": "2025-09-20T21:02:06.212490Z",
     "iopub.status.idle": "2025-09-20T21:02:06.217364Z",
     "shell.execute_reply": "2025-09-20T21:02:06.216689Z",
     "shell.execute_reply.started": "2025-09-20T21:02:06.212791Z"
    },
    "trusted": true
   },
   "outputs": [
    {
     "name": "stdout",
     "output_type": "stream",
     "text": [
      "/kaggle/working\n"
     ]
    }
   ],
   "source": [
    "import os\n",
    "HOME = os.getcwd()\n",
    "print(HOME)"
   ]
  },
  {
   "cell_type": "code",
   "execution_count": 4,
   "metadata": {
    "execution": {
     "iopub.execute_input": "2025-09-20T20:56:27.065484Z",
     "iopub.status.busy": "2025-09-20T20:56:27.064884Z",
     "iopub.status.idle": "2025-09-20T20:58:03.048751Z",
     "shell.execute_reply": "2025-09-20T20:58:03.048132Z",
     "shell.execute_reply.started": "2025-09-20T20:56:27.065460Z"
    },
    "trusted": true
   },
   "outputs": [
    {
     "name": "stdout",
     "output_type": "stream",
     "text": [
      "Ultralytics 8.3.202 🚀 Python-3.11.13 torch-2.6.0+cu124 CUDA:0 (Tesla T4, 15095MiB)\n",
      "Setup complete ✅ (4 CPUs, 31.4 GB RAM, 6411.4/8062.4 GB disk)\n"
     ]
    }
   ],
   "source": [
    "!pip install -U ultralytics\n",
    "import ultralytics\n",
    "ultralytics.checks()"
   ]
  },
  {
   "cell_type": "code",
   "execution_count": 5,
   "metadata": {
    "execution": {
     "iopub.execute_input": "2025-09-20T20:58:08.162554Z",
     "iopub.status.busy": "2025-09-20T20:58:08.162201Z",
     "iopub.status.idle": "2025-09-20T20:58:08.311027Z",
     "shell.execute_reply": "2025-09-20T20:58:08.310542Z",
     "shell.execute_reply.started": "2025-09-20T20:58:08.162532Z"
    },
    "trusted": true
   },
   "outputs": [],
   "source": [
    "from ultralytics import YOLO\n",
    "\n",
    "from IPython.display import display, Image"
   ]
  },
  {
   "cell_type": "code",
   "execution_count": 6,
   "metadata": {
    "execution": {
     "iopub.execute_input": "2025-09-20T20:58:11.440153Z",
     "iopub.status.busy": "2025-09-20T20:58:11.439861Z",
     "iopub.status.idle": "2025-09-20T20:58:17.381965Z",
     "shell.execute_reply": "2025-09-20T20:58:17.380924Z",
     "shell.execute_reply.started": "2025-09-20T20:58:11.440131Z"
    },
    "trusted": true
   },
   "outputs": [
    {
     "name": "stdout",
     "output_type": "stream",
     "text": [
      "/kaggle/working\n",
      "\u001b[KDownloading https://github.com/ultralytics/assets/releases/download/v8.3.0/yolo12n.pt to 'yolo12n.pt': 100% ━━━━━━━━━━━━ 5.3MB 64.5MB/s 0.1s\n",
      "Ultralytics 8.3.202 🚀 Python-3.11.13 torch-2.6.0+cu124 CUDA:0 (Tesla T4, 15095MiB)\n",
      "YOLOv12n summary (fused): 159 layers, 2,590,824 parameters, 0 gradients, 6.5 GFLOPs\n",
      "\n",
      "\u001b[KDownloading https://media.roboflow.com/notebooks/examples/dog.jpeg to 'dog.jpeg': 100% ━━━━━━━━━━━━ 103.6KB 36.9MB/s 0.0s\n",
      "image 1/1 /kaggle/working/dog.jpeg: 640x384 1 person, 1 car, 2 dogs, 70.6ms\n",
      "Speed: 19.5ms preprocess, 70.6ms inference, 473.9ms postprocess per image at shape (1, 3, 640, 384)\n",
      "Results saved to \u001b[1m/kaggle/working/runs/detect/predict\u001b[0m\n",
      "💡 Learn more at https://docs.ultralytics.com/modes/predict\n"
     ]
    }
   ],
   "source": [
    "# Run inference on an image with YOLO12n\n",
    "# !yolo predict model=yolo12n.pt source='https://ultralytics.com/images/zidane.jpg'\n",
    "\n",
    "%cd {HOME}\n",
    "!yolo predict mode=predict model=yolo12n.pt conf=0.25 source='https://media.roboflow.com/notebooks/examples/dog.jpeg' save=True"
   ]
  },
  {
   "cell_type": "code",
   "execution_count": null,
   "metadata": {},
   "outputs": [],
   "source": [
    "%cd {HOME}\n",
    "# Image('runs/detect/predict/dog.jpeg')\n",
    "Image(filename='runs/detect/predict/dog.jpg', height=600)"
   ]
  },
  {
   "cell_type": "code",
   "execution_count": null,
   "metadata": {},
   "outputs": [],
   "source": [
    "!mkdir {HOME}/datasets\n",
    "%cd {HOME}/datasets\n",
    "\n",
    "!pip install roboflow --quiet\n",
    "\n",
    "from roboflow import Roboflow\n",
    "rf = Roboflow(api_key=\"n12mRmQdWmrjCSKFgJMC\")\n",
    "project = rf.workspace(\"waste-detections-by-fu\").project(\"waste-detections-c0mkz\")\n",
    "version = project.version(6)\n",
    "dataset = version.download(\"yolov12\")"
   ]
  },
  {
   "cell_type": "code",
   "execution_count": 9,
   "metadata": {
    "execution": {
     "iopub.execute_input": "2025-09-20T20:59:31.571232Z",
     "iopub.status.busy": "2025-09-20T20:59:31.570889Z",
     "iopub.status.idle": "2025-09-20T20:59:31.576857Z",
     "shell.execute_reply": "2025-09-20T20:59:31.576276Z",
     "shell.execute_reply.started": "2025-09-20T20:59:31.571203Z"
    },
    "trusted": true
   },
   "outputs": [
    {
     "data": {
      "text/plain": [
       "'/kaggle/working/datasets/Waste-Detections-6'"
      ]
     },
     "execution_count": 9,
     "metadata": {},
     "output_type": "execute_result"
    }
   ],
   "source": [
    "dataset.location"
   ]
  },
  {
   "cell_type": "code",
   "execution_count": 10,
   "metadata": {
    "execution": {
     "iopub.execute_input": "2025-09-20T20:59:43.479783Z",
     "iopub.status.busy": "2025-09-20T20:59:43.479065Z",
     "iopub.status.idle": "2025-09-20T20:59:46.520209Z",
     "shell.execute_reply": "2025-09-20T20:59:46.519467Z",
     "shell.execute_reply.started": "2025-09-20T20:59:43.479757Z"
    },
    "trusted": true
   },
   "outputs": [
    {
     "name": "stdout",
     "output_type": "stream",
     "text": [
      "Requirement already satisfied: Pillow in /usr/local/lib/python3.11/dist-packages (11.2.1)\n"
     ]
    }
   ],
   "source": [
    "!pip install Pillow\n"
   ]
  },
  {
   "cell_type": "code",
   "execution_count": null,
   "metadata": {},
   "outputs": [],
   "source": [
    "# Train YOLO12n\n",
    "%cd {HOME}\n",
    "\n",
    "!yolo train model=yolo12n.pt data={dataset.location}/data.yaml epochs=50 imgsz=640 plots=True device=0,1"
   ]
  },
  {
   "cell_type": "code",
   "execution_count": 22,
   "metadata": {
    "execution": {
     "iopub.execute_input": "2025-09-20T22:24:49.219273Z",
     "iopub.status.busy": "2025-09-20T22:24:49.218929Z",
     "iopub.status.idle": "2025-09-20T22:24:49.356698Z",
     "shell.execute_reply": "2025-09-20T22:24:49.356014Z",
     "shell.execute_reply.started": "2025-09-20T22:24:49.219241Z"
    },
    "trusted": true
   },
   "outputs": [
    {
     "name": "stdout",
     "output_type": "stream",
     "text": [
      "args.yaml\t\t\t results.csv\t       val_batch0_labels.jpg\n",
      "BoxF1_curve.png\t\t\t results.png\t       val_batch0_pred.jpg\n",
      "BoxP_curve.png\t\t\t train_batch0.jpg      val_batch1_labels.jpg\n",
      "BoxPR_curve.png\t\t\t train_batch16000.jpg  val_batch1_pred.jpg\n",
      "BoxR_curve.png\t\t\t train_batch16001.jpg  val_batch2_labels.jpg\n",
      "confusion_matrix_normalized.png  train_batch16002.jpg  val_batch2_pred.jpg\n",
      "confusion_matrix.png\t\t train_batch1.jpg      weights\n",
      "labels.jpg\t\t\t train_batch2.jpg\n"
     ]
    }
   ],
   "source": [
    "!ls {HOME}/runs/detect/train/"
   ]
  },
  {
   "cell_type": "code",
   "execution_count": null,
   "metadata": {},
   "outputs": [],
   "source": [
    "%cd {HOME}\n",
    "Image.open(f'{HOME}/runs/detect/train/confusion_matrix.png')"
   ]
  },
  {
   "cell_type": "code",
   "execution_count": null,
   "metadata": {},
   "outputs": [],
   "source": [
    "%cd {HOME}\n",
    "Image.open(f'{HOME}/runs/detect/train/results.png')"
   ]
  },
  {
   "cell_type": "code",
   "execution_count": null,
   "metadata": {},
   "outputs": [],
   "source": [
    "%cd {HOME}\n",
    "Image.open(f'{HOME}/runs/detect/train/val_batch0_pred.jpg')"
   ]
  },
  {
   "cell_type": "code",
   "execution_count": 28,
   "metadata": {
    "execution": {
     "iopub.execute_input": "2025-09-20T22:26:08.607119Z",
     "iopub.status.busy": "2025-09-20T22:26:08.606843Z",
     "iopub.status.idle": "2025-09-20T22:26:22.297740Z",
     "shell.execute_reply": "2025-09-20T22:26:22.296984Z",
     "shell.execute_reply.started": "2025-09-20T22:26:08.607098Z"
    },
    "trusted": true
   },
   "outputs": [
    {
     "name": "stdout",
     "output_type": "stream",
     "text": [
      "/kaggle/working\n",
      "Ultralytics 8.3.202 🚀 Python-3.11.13 torch-2.6.0+cu124 CUDA:0 (Tesla T4, 15095MiB)\n",
      "YOLOv12n summary (fused): 159 layers, 2,557,508 parameters, 0 gradients, 6.3 GFLOPs\n",
      "\u001b[34m\u001b[1mval: \u001b[0mFast image access ✅ (ping: 0.0±0.0 ms, read: 2187.7±907.7 MB/s, size: 80.2 KB)\n",
      "\u001b[K\u001b[34m\u001b[1mval: \u001b[0mScanning /kaggle/working/datasets/Waste-Detections-6/valid/labels.cache... 427 images, 0 backgrounds, 0 corrupt: 100% ━━━━━━━━━━━━ 427/427 8.5Mit/s 0.0ss\n",
      "\u001b[K                 Class     Images  Instances      Box(P          R      mAP50  mAP50-95): 100% ━━━━━━━━━━━━ 27/27 5.2it/s 5.2s0.1s\n",
      "/usr/local/lib/python3.11/dist-packages/matplotlib/colors.py:721: RuntimeWarning: invalid value encountered in less\n",
      "  xa[xa < 0] = -1\n",
      "/usr/local/lib/python3.11/dist-packages/matplotlib/colors.py:721: RuntimeWarning: invalid value encountered in less\n",
      "  xa[xa < 0] = -1\n",
      "                   all        427       1050      0.695      0.611      0.658      0.539\n",
      "                 Paper        151        275      0.736      0.585      0.698      0.598\n",
      "        Plastic Bottle        134        276      0.835      0.732      0.796      0.681\n",
      "           Plastic bag         98        165      0.633      0.637      0.647      0.514\n",
      "         Plastic waste        144        334      0.576      0.488      0.492      0.364\n",
      "Speed: 0.7ms preprocess, 6.1ms inference, 0.0ms loss, 2.4ms postprocess per image\n",
      "Results saved to \u001b[1m/kaggle/working/runs/detect/val\u001b[0m\n",
      "💡 Learn more at https://docs.ultralytics.com/modes/val\n"
     ]
    }
   ],
   "source": [
    "%cd {HOME}\n",
    "\n",
    "!yolo task=detect mode=val model={HOME}/runs/detect/train/weights/best.pt data={dataset.location}/data.yaml"
   ]
  },
  {
   "cell_type": "code",
   "execution_count": 29,
   "metadata": {
    "execution": {
     "iopub.execute_input": "2025-09-20T22:26:28.777458Z",
     "iopub.status.busy": "2025-09-20T22:26:28.776879Z",
     "iopub.status.idle": "2025-09-20T22:26:35.141355Z",
     "shell.execute_reply": "2025-09-20T22:26:35.140562Z",
     "shell.execute_reply.started": "2025-09-20T22:26:28.777429Z"
    },
    "trusted": true
   },
   "outputs": [
    {
     "name": "stdout",
     "output_type": "stream",
     "text": [
      "Ultralytics 8.3.202 🚀 Python-3.11.13 torch-2.6.0+cu124 CPU (Intel Xeon CPU @ 2.00GHz)\n",
      "💡 ProTip: Export to OpenVINO format for best performance on Intel hardware. Learn more at https://docs.ultralytics.com/integrations/openvino/\n",
      "YOLOv12n summary (fused): 159 layers, 2,557,508 parameters, 0 gradients, 6.3 GFLOPs\n",
      "\n",
      "\u001b[34m\u001b[1mPyTorch:\u001b[0m starting from '/kaggle/working/runs/detect/train/weights/best.pt' with input shape (1, 3, 640, 640) BCHW and output shape(s) (1, 8, 8400) (5.3 MB)\n",
      "\n",
      "\u001b[34m\u001b[1mTorchScript:\u001b[0m starting export with torch 2.6.0+cu124...\n",
      "\u001b[34m\u001b[1mTorchScript:\u001b[0m export success ✅ 3.2s, saved as '/kaggle/working/runs/detect/train/weights/best.torchscript' (10.4 MB)\n",
      "\n",
      "Export complete (3.9s)\n",
      "Results saved to \u001b[1m/kaggle/working/runs/detect/train/weights\u001b[0m\n",
      "Predict:         yolo predict task=detect model=/kaggle/working/runs/detect/train/weights/best.torchscript imgsz=640  \n",
      "Validate:        yolo val task=detect model=/kaggle/working/runs/detect/train/weights/best.torchscript imgsz=640 data=/kaggle/working/datasets/Waste-Detections-6/data.yaml  \n",
      "Visualize:       https://netron.app\n",
      "💡 Learn more at https://docs.ultralytics.com/modes/export\n"
     ]
    }
   ],
   "source": [
    "!yolo export model={HOME}/runs/detect/train/weights/best.pt format=torchscript"
   ]
  },
  {
   "cell_type": "code",
   "execution_count": 30,
   "metadata": {
    "execution": {
     "iopub.execute_input": "2025-09-20T22:26:40.963064Z",
     "iopub.status.busy": "2025-09-20T22:26:40.962380Z",
     "iopub.status.idle": "2025-09-20T22:26:50.573451Z",
     "shell.execute_reply": "2025-09-20T22:26:50.572682Z",
     "shell.execute_reply.started": "2025-09-20T22:26:40.963027Z"
    },
    "trusted": true
   },
   "outputs": [
    {
     "name": "stdout",
     "output_type": "stream",
     "text": [
      "/kaggle/working\n",
      "Ultralytics 8.3.202 🚀 Python-3.11.13 torch-2.6.0+cu124 CUDA:0 (Tesla T4, 15095MiB)\n",
      "YOLOv12n summary (fused): 159 layers, 2,557,508 parameters, 0 gradients, 6.3 GFLOPs\n",
      "\n",
      "image 1/283 /kaggle/working/datasets/Waste-Detections-6/test/images/20250303_141402_jpg.rf.eca6609b65e2645932230f9186be83f4.jpg: 640x640 8 Plastic Bottles, 15.9ms\n",
      "image 2/283 /kaggle/working/datasets/Waste-Detections-6/test/images/20250303_141446_jpg.rf.fff8ddd58bfa68db3ad17b97c8d21949.jpg: 640x640 1 Paper, 6 Plastic wastes, 14.3ms\n",
      "image 3/283 /kaggle/working/datasets/Waste-Detections-6/test/images/20250303_141649_jpg.rf.30d1a279399f53b8d35f8567c01d9874.jpg: 640x640 4 Plastic wastes, 13.4ms\n",
      "image 4/283 /kaggle/working/datasets/Waste-Detections-6/test/images/20250303_141652_jpg.rf.f9c3ff2eb28a69c88222dc0a89e4a0ac.jpg: 640x640 4 Plastic wastes, 13.3ms\n",
      "image 5/283 /kaggle/working/datasets/Waste-Detections-6/test/images/20250303_141654_jpg.rf.0a76417ecdcfc7ae4fffb7fa0cdb3d21.jpg: 640x640 7 Plastic wastes, 13.0ms\n",
      "image 6/283 /kaggle/working/datasets/Waste-Detections-6/test/images/20250303_142552_jpg.rf.551d1b4e288fba1d21622c723e326eef.jpg: 640x640 4 Plastic bags, 12.8ms\n",
      "image 7/283 /kaggle/working/datasets/Waste-Detections-6/test/images/20250303_142618-copy_jpg.rf.8f1d064dbc4a9aba8d9481de20784279.jpg: 640x640 1 Paper, 1 Plastic bag, 12.8ms\n",
      "image 8/283 /kaggle/working/datasets/Waste-Detections-6/test/images/20250303_150859_jpg.rf.4c6e99fedd67bb41a84b286d7780639d.jpg: 640x640 1 Plastic waste, 14.2ms\n",
      "image 9/283 /kaggle/working/datasets/Waste-Detections-6/test/images/20250303_150902_jpg.rf.89989144c1e200d2ccd699de243e304a.jpg: 640x640 1 Plastic waste, 18.5ms\n",
      "image 10/283 /kaggle/working/datasets/Waste-Detections-6/test/images/20250303_154121-copy_jpg.rf.48d82922e22249114a7b1dd983a502df.jpg: 640x640 1 Plastic bag, 16.6ms\n",
      "image 11/283 /kaggle/working/datasets/Waste-Detections-6/test/images/20250303_154221-copy_jpg.rf.cdd9fc43f4556b7d6d6a9ce5e4130513.jpg: 640x640 1 Plastic bag, 13.9ms\n",
      "image 12/283 /kaggle/working/datasets/Waste-Detections-6/test/images/20250314_152909_jpg.rf.61382d67bb2402a4f2572b56c205026d.jpg: 640x640 1 Paper, 2 Plastic bags, 13.7ms\n",
      "image 13/283 /kaggle/working/datasets/Waste-Detections-6/test/images/20250314_152916_jpg.rf.641600b3bf29203d2721ee0ea7efbaef.jpg: 640x640 2 Plastic bags, 13.0ms\n",
      "image 14/283 /kaggle/working/datasets/Waste-Detections-6/test/images/20250314_153742_jpg.rf.014d0bf0800bc28ef37c77618c13b0fd.jpg: 640x640 1 Paper, 1 Plastic Bottle, 1 Plastic bag, 1 Plastic waste, 13.5ms\n",
      "image 15/283 /kaggle/working/datasets/Waste-Detections-6/test/images/20250314_153801_jpg.rf.f3ff4ef6b437a132bfe3582d51712838.jpg: 640x640 1 Plastic Bottle, 12.9ms\n",
      "image 16/283 /kaggle/working/datasets/Waste-Detections-6/test/images/20250314_153847_jpg.rf.3103b076e340946f57f340d05b6dfacf.jpg: 640x640 1 Plastic Bottle, 15.4ms\n",
      "image 17/283 /kaggle/working/datasets/Waste-Detections-6/test/images/20250314_154010_jpg.rf.5c8de63edc5af1b476622f1da9e414ce.jpg: 640x640 1 Plastic bag, 18.8ms\n",
      "image 18/283 /kaggle/working/datasets/Waste-Detections-6/test/images/20250314_154534_jpg.rf.a37e440879a8a6a54b968fed77d0e443.jpg: 640x640 1 Plastic Bottle, 20.3ms\n",
      "image 19/283 /kaggle/working/datasets/Waste-Detections-6/test/images/20250314_154808_jpg.rf.002b2becd2a7cf7a07bc89525d153d64.jpg: 640x640 2 Plastic bags, 1 Plastic waste, 13.8ms\n",
      "image 20/283 /kaggle/working/datasets/Waste-Detections-6/test/images/20250314_155117_jpg.rf.d28cb66e76216cdb7ebfa7b20b6ea60f.jpg: 640x640 1 Plastic waste, 14.1ms\n",
      "image 21/283 /kaggle/working/datasets/Waste-Detections-6/test/images/20250314_155438_jpg.rf.6b41edcc571cee1276b63695147c74b7.jpg: 640x640 1 Plastic Bottle, 12.9ms\n",
      "image 22/283 /kaggle/working/datasets/Waste-Detections-6/test/images/20250314_155526_jpg.rf.57c594d3a0696a26db327d789e6e60c0.jpg: 640x640 1 Plastic Bottle, 13.1ms\n",
      "image 23/283 /kaggle/working/datasets/Waste-Detections-6/test/images/20250314_155614_jpg.rf.3d60e82bb7145f3f769c30ca7397f769.jpg: 640x640 1 Paper, 1 Plastic waste, 12.8ms\n",
      "image 24/283 /kaggle/working/datasets/Waste-Detections-6/test/images/IMG-001-110-_jpg.rf.f7880e0b27c610041f14ed3349cca934.jpg: 640x640 1 Paper, 12.9ms\n",
      "image 25/283 /kaggle/working/datasets/Waste-Detections-6/test/images/IMG-001-137-_jpg.rf.339b9eb6b2c79e1e7dfa63302fdbcb89.jpg: 640x640 1 Plastic waste, 13.8ms\n",
      "image 26/283 /kaggle/working/datasets/Waste-Detections-6/test/images/IMG-001-140-_jpg.rf.18c509d14426799b7184cd751d470e49.jpg: 640x640 4 Plastic wastes, 12.9ms\n",
      "image 27/283 /kaggle/working/datasets/Waste-Detections-6/test/images/IMG-001-142-_jpg.rf.e229da3f6777ece7bf75032f4d99021a.jpg: 640x640 1 Paper, 14.0ms\n",
      "image 28/283 /kaggle/working/datasets/Waste-Detections-6/test/images/IMG-001-159-_jpg.rf.c778d1aa4030b84d44e13f039ae37989.jpg: 640x640 2 Plastic bags, 13.2ms\n",
      "image 29/283 /kaggle/working/datasets/Waste-Detections-6/test/images/IMG-001-179-_jpg.rf.804aaa94bb65908dc0140a062b6a1e59.jpg: 640x640 2 Papers, 2 Plastic bags, 13.0ms\n",
      "image 30/283 /kaggle/working/datasets/Waste-Detections-6/test/images/IMG-001-219-_jpg.rf.1087dbc7b028ff6d3c8b3bb5cff92f0d.jpg: 640x640 2 Plastic wastes, 13.9ms\n",
      "image 31/283 /kaggle/working/datasets/Waste-Detections-6/test/images/IMG-001-227-_jpg.rf.13a80063fb9534edf9ce7b3c576f3c31.jpg: 640x640 1 Plastic waste, 13.2ms\n",
      "image 32/283 /kaggle/working/datasets/Waste-Detections-6/test/images/IMG-001-228-_jpg.rf.042961b995b53f4415122221cd0b8fc6.jpg: 640x640 2 Plastic Bottles, 13.1ms\n",
      "image 33/283 /kaggle/working/datasets/Waste-Detections-6/test/images/IMG-001-264-_jpg.rf.3404b0089c7af125fe36467aee50a7e1.jpg: 640x640 1 Paper, 13.6ms\n",
      "image 34/283 /kaggle/working/datasets/Waste-Detections-6/test/images/IMG-001-271-_jpg.rf.3bcf6b8d104240f13af3322cd9c37e58.jpg: 640x640 2 Plastic Bottles, 14.0ms\n",
      "image 35/283 /kaggle/working/datasets/Waste-Detections-6/test/images/IMG-001-284-_jpg.rf.de5dec8996b6f90e8d52644af4c01932.jpg: 640x640 2 Papers, 13.2ms\n",
      "image 36/283 /kaggle/working/datasets/Waste-Detections-6/test/images/IMG-001-3-_jpg.rf.7261a44e4cae74ab385e2bf9791823c3.jpg: 640x640 3 Plastic bags, 1 Plastic waste, 13.9ms\n",
      "image 37/283 /kaggle/working/datasets/Waste-Detections-6/test/images/IMG-001-54-_jpg.rf.6560de32e8a9d91231fd940fbb3e99c8.jpg: 640x640 1 Plastic waste, 12.9ms\n",
      "image 38/283 /kaggle/working/datasets/Waste-Detections-6/test/images/IMG-001-6-_jpg.rf.c0fa06703aa6103f1be6856a2351e6de.jpg: 640x640 3 Papers, 7 Plastic wastes, 12.9ms\n",
      "image 39/283 /kaggle/working/datasets/Waste-Detections-6/test/images/IMG-001-70-_jpg.rf.d505c33be51e7e87ecb4488b46d58743.jpg: 640x640 1 Paper, 1 Plastic waste, 12.9ms\n",
      "image 40/283 /kaggle/working/datasets/Waste-Detections-6/test/images/IMG-001-81-_jpg.rf.73c598ec1bd53eeefa42d9bf10075ee1.jpg: 640x640 2 Plastic wastes, 13.0ms\n",
      "image 41/283 /kaggle/working/datasets/Waste-Detections-6/test/images/IMG-001-86-_jpg.rf.36994f9e3e18fdb4d52b4b6ef0154c3f.jpg: 640x640 2 Papers, 13.0ms\n",
      "image 42/283 /kaggle/working/datasets/Waste-Detections-6/test/images/IMG-001-87-_jpg.rf.cd806d7cc11f7003edea831a4c91279b.jpg: 640x640 1 Plastic bag, 12.9ms\n",
      "image 43/283 /kaggle/working/datasets/Waste-Detections-6/test/images/IMG-20250321-WA0031-copy_jpg.rf.e1206bafa0f12d5c486474592090e84a.jpg: 640x640 1 Plastic Bottle, 13.6ms\n",
      "image 44/283 /kaggle/working/datasets/Waste-Detections-6/test/images/IMG-20250321-WA0038-copy_jpg.rf.2e74bcb060496540a49eec352d9a27fb.jpg: 640x640 1 Plastic Bottle, 14.3ms\n",
      "image 45/283 /kaggle/working/datasets/Waste-Detections-6/test/images/IMG-20250321-WA0040-copy_jpg.rf.0f33c95cf13e52c6949b04f3f1f2909b.jpg: 640x640 1 Plastic Bottle, 13.9ms\n",
      "image 46/283 /kaggle/working/datasets/Waste-Detections-6/test/images/IMG-20250321-WA0043-copy_jpg.rf.97124ede4bd6310d6247c3958a17a982.jpg: 640x640 1 Plastic Bottle, 12.8ms\n",
      "image 47/283 /kaggle/working/datasets/Waste-Detections-6/test/images/IMG-20250321-WA0050-copy_jpg.rf.f16164dbb087765c0f20399fb5737a11.jpg: 640x640 1 Plastic waste, 12.9ms\n",
      "image 48/283 /kaggle/working/datasets/Waste-Detections-6/test/images/IMG-20250321-WA0078-copy_jpg.rf.0bd1471792c924be144e71c4030217fb.jpg: 640x640 2 Plastic wastes, 12.8ms\n",
      "image 49/283 /kaggle/working/datasets/Waste-Detections-6/test/images/IMG-20250321-WA0082-copy_jpg.rf.c1137aa6edb769c52b1a3e86f4f5b4a9.jpg: 640x640 1 Plastic Bottle, 13.7ms\n",
      "image 50/283 /kaggle/working/datasets/Waste-Detections-6/test/images/IMG-20250321-WA0084-copy_jpg.rf.1c585f0f94bf7a3623fab0d52c2b0b2e.jpg: 640x640 1 Plastic waste, 13.6ms\n",
      "image 51/283 /kaggle/working/datasets/Waste-Detections-6/test/images/IMG-20250321-WA0099-copy_jpg.rf.bbf962356e735faa197a86a033df4a1c.jpg: 640x640 1 Plastic waste, 12.9ms\n",
      "image 52/283 /kaggle/working/datasets/Waste-Detections-6/test/images/IMG-20250321-WA0104-copy_jpg.rf.9e62cfdaf8826136cee0f99c2befbb5b.jpg: 640x640 1 Plastic bag, 13.6ms\n",
      "image 53/283 /kaggle/working/datasets/Waste-Detections-6/test/images/IMG-20250321-WA0109-copy_jpg.rf.10f711ff097ba0756a7108e8e3350301.jpg: 640x640 1 Paper, 12.8ms\n",
      "image 54/283 /kaggle/working/datasets/Waste-Detections-6/test/images/IMG-20250321-WA0111-copy_jpg.rf.38eb0c2a63a8f1cf40dc0185b9044c19.jpg: 640x640 1 Plastic Bottle, 13.0ms\n",
      "image 55/283 /kaggle/working/datasets/Waste-Detections-6/test/images/IMG-20250321-WA0137-copy_jpg.rf.049d179515770d1f7eb1b594a024ed56.jpg: 640x640 2 Plastic wastes, 13.3ms\n",
      "image 56/283 /kaggle/working/datasets/Waste-Detections-6/test/images/IMG-20250321-WA0139-copy_jpg.rf.40937d0069903f4582826adafa720001.jpg: 640x640 2 Plastic wastes, 12.9ms\n",
      "image 57/283 /kaggle/working/datasets/Waste-Detections-6/test/images/IMG-20250321-WA0141-copy_jpg.rf.430f7da2a481c287937afce6ed9f406c.jpg: 640x640 1 Plastic bag, 13.6ms\n",
      "image 58/283 /kaggle/working/datasets/Waste-Detections-6/test/images/IMG-20250321-WA0166-copy_jpg.rf.ee444297349d7742e50bd9b49af38ac6.jpg: 640x640 1 Plastic waste, 13.2ms\n",
      "image 59/283 /kaggle/working/datasets/Waste-Detections-6/test/images/IMG-20250321-WA0176-copy_jpg.rf.5c156058dbe2c85a8cdb6a1da286bdc3.jpg: 640x640 2 Plastic wastes, 13.4ms\n",
      "image 60/283 /kaggle/working/datasets/Waste-Detections-6/test/images/IMG-20250321-WA0202-copy_jpg.rf.d6b14d172f0c61d7885b4e7d01f23b0e.jpg: 640x640 1 Plastic waste, 13.0ms\n",
      "image 61/283 /kaggle/working/datasets/Waste-Detections-6/test/images/IMG-20250321-WA0204-copy_jpg.rf.9b9ac6c6022bc093d430261bceba677f.jpg: 640x640 1 Paper, 2 Plastic wastes, 12.9ms\n",
      "image 62/283 /kaggle/working/datasets/Waste-Detections-6/test/images/IMG-20250321-WA0217-copy_jpg.rf.9c26c7e76f12bd4e8f2e4a32007d905d.jpg: 640x640 1 Plastic bag, 13.3ms\n",
      "image 63/283 /kaggle/working/datasets/Waste-Detections-6/test/images/IMG-20250321-WA0232-copy_jpg.rf.1662155f338a20a2a50f9ae0ca8beb4a.jpg: 640x640 1 Plastic bag, 13.2ms\n",
      "image 64/283 /kaggle/working/datasets/Waste-Detections-6/test/images/IMG-20250321-WA0260-copy_jpg.rf.704108605d2b569c1232b91385930713.jpg: 640x640 1 Paper, 3 Plastic wastes, 13.7ms\n",
      "image 65/283 /kaggle/working/datasets/Waste-Detections-6/test/images/IMG-20250321-WA0279-copy_jpg.rf.bdd36fff1c506cb70e730828430bc8a1.jpg: 640x640 5 Papers, 2 Plastic wastes, 12.9ms\n",
      "image 66/283 /kaggle/working/datasets/Waste-Detections-6/test/images/IMG-20250321-WA0284-copy_jpg.rf.6dabae7729a284e76f8fbe194f972a2e.jpg: 640x640 2 Plastic Bottles, 13.4ms\n",
      "image 67/283 /kaggle/working/datasets/Waste-Detections-6/test/images/IMG-20250321-WA0310-copy_jpg.rf.fc998f1ce285face81896d8999181741.jpg: 640x640 2 Papers, 13.1ms\n",
      "image 68/283 /kaggle/working/datasets/Waste-Detections-6/test/images/IMG-20250321-WA0314-copy_jpg.rf.0f33cb137b9c31aa5aca263edf7c8589.jpg: 640x640 2 Papers, 13.4ms\n",
      "image 69/283 /kaggle/working/datasets/Waste-Detections-6/test/images/IMG-20250321-WA0316-copy_jpg.rf.843f1a3ad59d2581a0010e366073dba3.jpg: 640x640 1 Paper, 1 Plastic bag, 12.9ms\n",
      "image 70/283 /kaggle/working/datasets/Waste-Detections-6/test/images/IMG-20250328-WA0010_jpg.rf.def8a0db8b7fe976a593002b6ffd1368.jpg: 640x640 1 Plastic Bottle, 13.0ms\n",
      "image 71/283 /kaggle/working/datasets/Waste-Detections-6/test/images/IMG-20250328-WA0014_jpg.rf.2b02144c88571e147d8eac928f10dabb.jpg: 640x640 1 Plastic Bottle, 13.6ms\n",
      "image 72/283 /kaggle/working/datasets/Waste-Detections-6/test/images/IMG-20250328-WA0062_jpg.rf.35c452213073a2ce56d4e98e7d3eb3f1.jpg: 640x640 1 Plastic Bottle, 13.0ms\n",
      "image 73/283 /kaggle/working/datasets/Waste-Detections-6/test/images/IMG-20250328-WA0074_jpg.rf.f64ff498eda77f55b245b07f71e9547b.jpg: 640x640 1 Plastic Bottle, 13.5ms\n",
      "image 74/283 /kaggle/working/datasets/Waste-Detections-6/test/images/IMG-20250328-WA0079_jpg.rf.de5883e1acc380aaed989d69b8173e31.jpg: 640x640 1 Plastic Bottle, 12.9ms\n",
      "image 75/283 /kaggle/working/datasets/Waste-Detections-6/test/images/IMG-20250328-WA0088_jpg.rf.153306f6e5d5e1c6bca4c4423e01ea2d.jpg: 640x640 1 Plastic Bottle, 13.2ms\n",
      "image 76/283 /kaggle/working/datasets/Waste-Detections-6/test/images/IMG-20250328-WA0103_jpg.rf.84a4d7b734722ce105e2fa03a7bc7e50.jpg: 640x640 1 Plastic Bottle, 13.6ms\n",
      "image 77/283 /kaggle/working/datasets/Waste-Detections-6/test/images/IMG-20250328-WA0112_jpg.rf.cf3e795d60f5c4cfc534d4f3e72289ab.jpg: 640x640 1 Plastic Bottle, 12.9ms\n",
      "image 78/283 /kaggle/working/datasets/Waste-Detections-6/test/images/IMG-20250328-WA0121_jpg.rf.65143b5276da44c6af6aaf3a7a3e02b4.jpg: 640x640 1 Plastic Bottle, 13.2ms\n",
      "image 79/283 /kaggle/working/datasets/Waste-Detections-6/test/images/IMG-20250328-WA0151_jpg.rf.9c2eac33fedcecd4d15c84921055f29c.jpg: 640x640 1 Plastic Bottle, 13.4ms\n",
      "image 80/283 /kaggle/working/datasets/Waste-Detections-6/test/images/IMG-20250328-WA0154_jpg.rf.8e2e69b0f074eff7dd94a81e0c3d02e4.jpg: 640x640 1 Plastic Bottle, 13.1ms\n",
      "image 81/283 /kaggle/working/datasets/Waste-Detections-6/test/images/IMG-20250328-WA0156_jpg.rf.4d9f1482fa2c9d435495290ea34c3194.jpg: 640x640 1 Plastic Bottle, 14.0ms\n",
      "image 82/283 /kaggle/working/datasets/Waste-Detections-6/test/images/IMG-20250328-WA0168_jpg.rf.b7e9d493b9ac5f2d0cc12a4b928f69f5.jpg: 640x640 2 Plastic Bottles, 13.0ms\n",
      "image 83/283 /kaggle/working/datasets/Waste-Detections-6/test/images/IMG-20250328-WA0169_jpg.rf.fce620437a73f5948482809436aa0599.jpg: 640x640 2 Plastic Bottles, 14.6ms\n",
      "image 84/283 /kaggle/working/datasets/Waste-Detections-6/test/images/IMG-20250328-WA0178_jpg.rf.3c311efa38a42d76663c95362cc5c120.jpg: 640x640 1 Plastic Bottle, 13.2ms\n",
      "image 85/283 /kaggle/working/datasets/Waste-Detections-6/test/images/IMG-20250328-WA0186_jpg.rf.3a9deb60cae43d56d6f4470e10217f6d.jpg: 640x640 1 Plastic Bottle, 13.3ms\n",
      "image 86/283 /kaggle/working/datasets/Waste-Detections-6/test/images/IMG-20250328-WA0188_jpg.rf.e1e6477b1e17c80e51b1df68f39b8db2.jpg: 640x640 1 Plastic Bottle, 13.6ms\n",
      "image 87/283 /kaggle/working/datasets/Waste-Detections-6/test/images/IMG-20250328-WA0214_jpg.rf.0dd5d70990d707af9c5799bd4dac9f7a.jpg: 640x640 1 Plastic Bottle, 12.9ms\n",
      "image 88/283 /kaggle/working/datasets/Waste-Detections-6/test/images/IMG-20250328-WA0217_jpg.rf.11cca631da27323c5f9a3b89e0630183.jpg: 640x640 1 Plastic Bottle, 13.8ms\n",
      "image 89/283 /kaggle/working/datasets/Waste-Detections-6/test/images/IMG-20250328-WA0223_jpg.rf.cac5e260adeaf643e5a0fe5e1dadf01e.jpg: 640x640 1 Plastic Bottle, 12.9ms\n",
      "image 90/283 /kaggle/working/datasets/Waste-Detections-6/test/images/IMG-20250328-WA0236_jpg.rf.47fa6bc2242e76ae85ce26e2f46a1be2.jpg: 640x640 1 Plastic Bottle, 12.8ms\n",
      "image 91/283 /kaggle/working/datasets/Waste-Detections-6/test/images/IMG-20250328-WA0242_jpg.rf.eaf80d1545a8bd390a51871a49ee4342.jpg: 640x640 1 Plastic Bottle, 14.3ms\n",
      "image 92/283 /kaggle/working/datasets/Waste-Detections-6/test/images/IMG-20250328-WA0245_jpg.rf.b2f43e7071874f2abd480e800413ec18.jpg: 640x640 1 Plastic Bottle, 13.1ms\n",
      "image 93/283 /kaggle/working/datasets/Waste-Detections-6/test/images/IMG-20250328-WA0247_jpg.rf.d145176187caefad0003a8a3a2c5d615.jpg: 640x640 1 Plastic Bottle, 13.9ms\n",
      "image 94/283 /kaggle/working/datasets/Waste-Detections-6/test/images/IMG-20250328-WA0264_jpg.rf.4f2b25c082f519034cc8a0dc38758087.jpg: 640x640 1 Plastic Bottle, 13.4ms\n",
      "image 95/283 /kaggle/working/datasets/Waste-Detections-6/test/images/IMG-20250328-WA0275_jpg.rf.b7ab9c69021ce6036f56d5038cef44c1.jpg: 640x640 3 Plastic Bottles, 13.4ms\n",
      "image 96/283 /kaggle/working/datasets/Waste-Detections-6/test/images/IMG-20250328-WA0294_jpg.rf.f06021639b44eb446881ad73316dcc94.jpg: 640x640 3 Plastic Bottles, 13.3ms\n",
      "image 97/283 /kaggle/working/datasets/Waste-Detections-6/test/images/IMG-20250328-WA0304_jpg.rf.a81c5163bc755aa9cedd127387fa3f62.jpg: 640x640 3 Plastic Bottles, 13.1ms\n",
      "image 98/283 /kaggle/working/datasets/Waste-Detections-6/test/images/IMG-20250328-WA0314_jpg.rf.59c0ed1220f6bfed9e62d894bb6a034c.jpg: 640x640 3 Plastic Bottles, 13.7ms\n",
      "image 99/283 /kaggle/working/datasets/Waste-Detections-6/test/images/IMG-20250328-WA0321_jpg.rf.bd19c526fec94c4ac3da21d63ca49b9b.jpg: 640x640 3 Plastic Bottles, 13.0ms\n",
      "image 100/283 /kaggle/working/datasets/Waste-Detections-6/test/images/IMG-20250328-WA0328_jpg.rf.d9e5201189c4fe01340e0a20dcb92283.jpg: 640x640 3 Plastic Bottles, 13.0ms\n",
      "image 101/283 /kaggle/working/datasets/Waste-Detections-6/test/images/IMG-20250328-WA0339_jpg.rf.d71ca60c796d23d8ab8408525c9d94b1.jpg: 640x640 3 Plastic Bottles, 13.2ms\n",
      "image 102/283 /kaggle/working/datasets/Waste-Detections-6/test/images/IMG-20250328-WA0346_jpg.rf.71347393cee97f4d65ab4ef2bbc7d2b3.jpg: 640x640 1 Plastic Bottle, 13.8ms\n",
      "image 103/283 /kaggle/working/datasets/Waste-Detections-6/test/images/IMG-20250328-WA0352_jpg.rf.8387dcf93e79e09ae844a8ac46d48411.jpg: 640x640 1 Plastic Bottle, 13.8ms\n",
      "image 104/283 /kaggle/working/datasets/Waste-Detections-6/test/images/IMG-20250328-WA0367_jpg.rf.d8590670f731352b0f7f9de797bc1f3f.jpg: 640x640 2 Plastic Bottles, 13.0ms\n",
      "image 105/283 /kaggle/working/datasets/Waste-Detections-6/test/images/IMG-20250328-WA0371_jpg.rf.28120c748d2364489fadc7eea5203a4e.jpg: 640x640 1 Plastic Bottle, 13.7ms\n",
      "image 106/283 /kaggle/working/datasets/Waste-Detections-6/test/images/IMG-20250328-WA0372_jpg.rf.aded6e72a261105aa273533d74e79f13.jpg: 640x640 1 Plastic Bottle, 12.9ms\n",
      "image 107/283 /kaggle/working/datasets/Waste-Detections-6/test/images/IMG-20250328-WA0387_jpg.rf.5cfdf3b33eed3660f9abe8d96b873cac.jpg: 640x640 1 Plastic Bottle, 12.9ms\n",
      "image 108/283 /kaggle/working/datasets/Waste-Detections-6/test/images/IMG-20250328-WA0393_jpg.rf.d5b0f2747e02e5d9a7344d9e62fb2f85.jpg: 640x640 1 Plastic Bottle, 13.5ms\n",
      "image 109/283 /kaggle/working/datasets/Waste-Detections-6/test/images/IMG-20250328-WA0395_jpg.rf.a9281d78c9ddb93a89728ed957a88c22.jpg: 640x640 1 Plastic Bottle, 12.9ms\n",
      "image 110/283 /kaggle/working/datasets/Waste-Detections-6/test/images/IMG-20250403-WA0074_jpg.rf.559b2c8f6ecdb0ec65b02527cec7ea33.jpg: 640x640 1 Paper, 13.7ms\n",
      "image 111/283 /kaggle/working/datasets/Waste-Detections-6/test/images/IMG-20250403-WA0095_jpg.rf.4e5571d6cd711c1e502ba7ffcfbf6cc2.jpg: 640x640 1 Paper, 12.9ms\n",
      "image 112/283 /kaggle/working/datasets/Waste-Detections-6/test/images/IMG-20250403-WA0098_jpg.rf.355020c0cbe1bb717ec24565aabe667c.jpg: 640x640 1 Paper, 12.8ms\n",
      "image 113/283 /kaggle/working/datasets/Waste-Detections-6/test/images/IMG-20250403-WA0102_jpg.rf.8a7c6efb001436847cd5f25cf0001f85.jpg: 640x640 1 Paper, 13.7ms\n",
      "image 114/283 /kaggle/working/datasets/Waste-Detections-6/test/images/IMG-20250403-WA0105_jpg.rf.5ad6c51cd581c0b14a232ed6a180c49e.jpg: 640x640 1 Paper, 12.9ms\n",
      "image 115/283 /kaggle/working/datasets/Waste-Detections-6/test/images/IMG-20250403-WA0113_jpg.rf.e7ae588f663e404420dbed19f25c441c.jpg: 640x640 1 Paper, 13.1ms\n",
      "image 116/283 /kaggle/working/datasets/Waste-Detections-6/test/images/IMG-20250403-WA0127_jpg.rf.53adc8c0e9c98439dceb2ec7ccc539e9.jpg: 640x640 1 Paper, 12.8ms\n",
      "image 117/283 /kaggle/working/datasets/Waste-Detections-6/test/images/IMG-20250403-WA0136_jpg.rf.4149108c0d40aa7292cb9d6bed1a2d8a.jpg: 640x640 1 Paper, 12.8ms\n",
      "image 118/283 /kaggle/working/datasets/Waste-Detections-6/test/images/IMG-20250403-WA0138_jpg.rf.74e48269301edc5beb0a0a900de629be.jpg: 640x640 1 Paper, 13.6ms\n",
      "image 119/283 /kaggle/working/datasets/Waste-Detections-6/test/images/IMG-20250403-WA0141_jpg.rf.e45d03392736882800ae011b9247be0d.jpg: 640x640 1 Paper, 13.0ms\n",
      "image 120/283 /kaggle/working/datasets/Waste-Detections-6/test/images/IMG-20250403-WA0146_jpg.rf.34955cf300e782950e5d54ab120aa165.jpg: 640x640 1 Paper, 12.9ms\n",
      "image 121/283 /kaggle/working/datasets/Waste-Detections-6/test/images/IMG-20250403-WA0154_jpg.rf.e9ff63f8d1bf20f3b99fc3957f045f67.jpg: 640x640 1 Paper, 12.8ms\n",
      "image 122/283 /kaggle/working/datasets/Waste-Detections-6/test/images/IMG-20250403-WA0163_jpg.rf.064b79e74f95e6807b93e4d797f5d9c3.jpg: 640x640 1 Paper, 12.9ms\n",
      "image 123/283 /kaggle/working/datasets/Waste-Detections-6/test/images/IMG-20250403-WA0170_jpg.rf.2f4662ddfdfbef48260df7d4e88ae320.jpg: 640x640 1 Paper, 13.8ms\n",
      "image 124/283 /kaggle/working/datasets/Waste-Detections-6/test/images/IMG-20250403-WA0175_jpg.rf.ae28b34a0c78a3e89a8fc9ac7ac23293.jpg: 640x640 1 Paper, 13.1ms\n",
      "image 125/283 /kaggle/working/datasets/Waste-Detections-6/test/images/IMG-20250403-WA0205_jpg.rf.2155ff858a6ff52c36a3fe4b93b7a36f.jpg: 640x640 1 Paper, 12.8ms\n",
      "image 126/283 /kaggle/working/datasets/Waste-Detections-6/test/images/IMG-20250403-WA0216_jpg.rf.65bcd7db1cd8c46f2763dd311b5f0d77.jpg: 640x640 1 Paper, 13.1ms\n",
      "image 127/283 /kaggle/working/datasets/Waste-Detections-6/test/images/IMG-20250403-WA0221_jpg.rf.ecd525524c27bab34dc76b94341de2b0.jpg: 640x640 1 Paper, 13.0ms\n",
      "image 128/283 /kaggle/working/datasets/Waste-Detections-6/test/images/IMG-20250403-WA0232_jpg.rf.47aaed4991a2213ca04f1007c87939c1.jpg: 640x640 1 Paper, 14.2ms\n",
      "image 129/283 /kaggle/working/datasets/Waste-Detections-6/test/images/IMG-20250403-WA0241_jpg.rf.3324e6f2d513e1b20bc3d7e932902096.jpg: 640x640 1 Paper, 13.2ms\n",
      "image 130/283 /kaggle/working/datasets/Waste-Detections-6/test/images/IMG-20250403-WA0242_jpg.rf.f40a944edc138bc692c5c4c69e2c5041.jpg: 640x640 1 Paper, 13.2ms\n",
      "image 131/283 /kaggle/working/datasets/Waste-Detections-6/test/images/IMG-20250403-WA0260_jpg.rf.214b778f34f4aedf412e990eabb75468.jpg: 640x640 1 Paper, 13.2ms\n",
      "image 132/283 /kaggle/working/datasets/Waste-Detections-6/test/images/IMG-20250403-WA0280_jpg.rf.7b90b059b88ccc81563292c50111d8d2.jpg: 640x640 1 Paper, 13.3ms\n",
      "image 133/283 /kaggle/working/datasets/Waste-Detections-6/test/images/IMG-20250403-WA0324_jpg.rf.b1ab5b789f0b186862ffdf45fe589ba5.jpg: 640x640 1 Paper, 13.7ms\n",
      "image 134/283 /kaggle/working/datasets/Waste-Detections-6/test/images/IMG-20250403-WA0326_jpg.rf.f45b138e787ae59c3ea97185c25c4f3d.jpg: 640x640 1 Paper, 13.2ms\n",
      "image 135/283 /kaggle/working/datasets/Waste-Detections-6/test/images/IMG-20250403-WA0338_jpg.rf.0ebce797a7d4069fa02d7efdd7c04a80.jpg: 640x640 1 Paper, 13.4ms\n",
      "image 136/283 /kaggle/working/datasets/Waste-Detections-6/test/images/IMG-20250403-WA0343_jpg.rf.ced3b708eccc1ebf76de5e5915a25b79.jpg: 640x640 1 Paper, 13.1ms\n",
      "image 137/283 /kaggle/working/datasets/Waste-Detections-6/test/images/IMG-20250403-WA0348_jpg.rf.e3cbeb0f426729bf59108a523b19193a.jpg: 640x640 1 Paper, 13.1ms\n",
      "image 138/283 /kaggle/working/datasets/Waste-Detections-6/test/images/IMG-20250403-WA0356_jpg.rf.d686cbadc9a12d795aee643dddb2441c.jpg: 640x640 1 Paper, 13.6ms\n",
      "image 139/283 /kaggle/working/datasets/Waste-Detections-6/test/images/IMG-20250403-WA0372_jpg.rf.67315b3df7a16a7aa2c9ebbb3bd4dc87.jpg: 640x640 5 Papers, 12.9ms\n",
      "image 140/283 /kaggle/working/datasets/Waste-Detections-6/test/images/IMG-20250403-WA0375_jpg.rf.4985c95eae2434536fcc2d18da2bd5f5.jpg: 640x640 5 Papers, 12.8ms\n",
      "image 141/283 /kaggle/working/datasets/Waste-Detections-6/test/images/IMG-20250403-WA0377_jpg.rf.6b523d7c89bd117ad06a01591e838563.jpg: 640x640 4 Papers, 12.8ms\n",
      "image 142/283 /kaggle/working/datasets/Waste-Detections-6/test/images/IMG-20250403-WA0378_jpg.rf.aad25f59c2b827c407f6a4aadb1c2397.jpg: 640x640 3 Papers, 12.8ms\n",
      "image 143/283 /kaggle/working/datasets/Waste-Detections-6/test/images/IMG-20250403-WA0389_jpg.rf.2b09d63786977c0f44e2424fa6b65dc9.jpg: 640x640 4 Papers, 13.5ms\n",
      "image 144/283 /kaggle/working/datasets/Waste-Detections-6/test/images/IMG-20250403-WA0390_jpg.rf.30a946d203feec778b38d19fc97ecad2.jpg: 640x640 4 Papers, 12.8ms\n",
      "image 145/283 /kaggle/working/datasets/Waste-Detections-6/test/images/IMG-20250403-WA0393_jpg.rf.48ac412799819ae4cc8eee21d2f645cd.jpg: 640x640 1 Paper, 13.6ms\n",
      "image 146/283 /kaggle/working/datasets/Waste-Detections-6/test/images/IMG-20250403-WA0397_jpg.rf.d23f36f89e3600f09ccc41513f75a599.jpg: 640x640 4 Papers, 13.3ms\n",
      "image 147/283 /kaggle/working/datasets/Waste-Detections-6/test/images/IMG-20250403-WA0400_jpg.rf.0999ddef4d24c979409627bb377efcf6.jpg: 640x640 4 Papers, 12.9ms\n",
      "image 148/283 /kaggle/working/datasets/Waste-Detections-6/test/images/IMG-20250403-WA0418_jpg.rf.6d9f62bca73422869a7c0b670a0de030.jpg: 640x640 4 Papers, 12.9ms\n",
      "image 149/283 /kaggle/working/datasets/Waste-Detections-6/test/images/IMG-20250403-WA0424_jpg.rf.a940589b568ea06ac0f3c5d42664fe40.jpg: 640x640 1 Paper, 12.8ms\n",
      "image 150/283 /kaggle/working/datasets/Waste-Detections-6/test/images/IMG-20250403-WA0427_jpg.rf.b39530cc88ca8dc2ae6dde937e2d23da.jpg: 640x640 1 Paper, 13.9ms\n",
      "image 151/283 /kaggle/working/datasets/Waste-Detections-6/test/images/IMG-20250403-WA0434_jpg.rf.08068ff0315b3faa27dae9c1312bb10a.jpg: 640x640 1 Paper, 12.8ms\n",
      "image 152/283 /kaggle/working/datasets/Waste-Detections-6/test/images/IMG-20250403-WA0437_jpg.rf.d76e0176696045054d64b59c21730e13.jpg: 640x640 1 Paper, 13.0ms\n",
      "image 153/283 /kaggle/working/datasets/Waste-Detections-6/test/images/IMG-20250403-WA0451_jpg.rf.a0eb4c00d7f58a8cff5a18fdb603f78f.jpg: 640x640 1 Paper, 13.2ms\n",
      "image 154/283 /kaggle/working/datasets/Waste-Detections-6/test/images/IMG-20250403-WA0475_jpg.rf.dc7bd209604c625795deecd5ea39c8cb.jpg: 640x640 1 Paper, 12.9ms\n",
      "image 155/283 /kaggle/working/datasets/Waste-Detections-6/test/images/IMG-20250403-WA0482_jpg.rf.6952807ce4ac8762ca22d15db008d7ac.jpg: 640x640 1 Paper, 13.7ms\n",
      "image 156/283 /kaggle/working/datasets/Waste-Detections-6/test/images/IMG-20250403-WA0488_jpg.rf.1e27a062ad1c8da9ca11924f8dccb5dc.jpg: 640x640 1 Paper, 12.8ms\n",
      "image 157/283 /kaggle/working/datasets/Waste-Detections-6/test/images/IMG-20250403-WA0489_jpg.rf.893b5015256de6e219378878a48b6eca.jpg: 640x640 1 Paper, 12.9ms\n",
      "image 158/283 /kaggle/working/datasets/Waste-Detections-6/test/images/IMG-20250403-WA0491_jpg.rf.3be4ff0eb46ed99a9a88203a8754c2dd.jpg: 640x640 2 Papers, 13.0ms\n",
      "image 159/283 /kaggle/working/datasets/Waste-Detections-6/test/images/IMG-20250403-WA0492_jpg.rf.3300e2476bdee5042dd1f337b1647f09.jpg: 640x640 1 Paper, 13.0ms\n",
      "image 160/283 /kaggle/working/datasets/Waste-Detections-6/test/images/IMG-20250403-WA0507_jpg.rf.38491be343695478cc3fef879eac9be1.jpg: 640x640 1 Paper, 13.6ms\n",
      "image 161/283 /kaggle/working/datasets/Waste-Detections-6/test/images/IMG-20250403-WA0508_jpg.rf.9024d66b6041b65b46056a0d9e165510.jpg: 640x640 1 Paper, 12.9ms\n",
      "image 162/283 /kaggle/working/datasets/Waste-Detections-6/test/images/IMG-20250403-WA0512_jpg.rf.8053c1742a159227ebc27575a82e0453.jpg: 640x640 1 Paper, 12.9ms\n",
      "image 163/283 /kaggle/working/datasets/Waste-Detections-6/test/images/IMG-20250403-WA0517_jpg.rf.fad74bba1eea94d90c28fc30147d37a2.jpg: 640x640 1 Paper, 13.0ms\n",
      "image 164/283 /kaggle/working/datasets/Waste-Detections-6/test/images/IMG-20250403-WA0518_jpg.rf.1bd68cc5e22f81eaef6a1891655d35fa.jpg: 640x640 1 Paper, 12.9ms\n",
      "image 165/283 /kaggle/working/datasets/Waste-Detections-6/test/images/IMG-20250403-WA0531_jpg.rf.ab27b1fb7b58962c0c3464809f6bffda.jpg: 640x640 1 Paper, 13.7ms\n",
      "image 166/283 /kaggle/working/datasets/Waste-Detections-6/test/images/IMG20250303134506_jpg.rf.b187042fb615ecd705f946a2910880e1.jpg: 640x640 1 Paper, 1 Plastic bag, 2 Plastic wastes, 12.9ms\n",
      "image 167/283 /kaggle/working/datasets/Waste-Detections-6/test/images/IMG20250303135850_jpg.rf.34792f582e0f68d37d329a18965f7225.jpg: 640x640 1 Plastic waste, 13.0ms\n",
      "image 168/283 /kaggle/working/datasets/Waste-Detections-6/test/images/IMG20250303140051-copy_jpg.rf.bc3ee0342ac729456dbdca2277666575.jpg: 640x640 3 Papers, 1 Plastic bag, 3 Plastic wastes, 13.1ms\n",
      "image 169/283 /kaggle/working/datasets/Waste-Detections-6/test/images/IMG20250303140053-copy_jpg.rf.ecce330e4bb4c55c6f84b224a5ce7987.jpg: 640x640 1 Plastic bag, 1 Plastic waste, 14.9ms\n",
      "image 170/283 /kaggle/working/datasets/Waste-Detections-6/test/images/IMG20250303140118-copy_jpg.rf.99c3e6ab00f011332865ea145d9ff881.jpg: 640x640 1 Paper, 1 Plastic bag, 4 Plastic wastes, 14.7ms\n",
      "image 171/283 /kaggle/working/datasets/Waste-Detections-6/test/images/IMG20250303140118_jpg.rf.37efde686eac2024651bef5887e41492.jpg: 640x640 1 Paper, 1 Plastic bag, 4 Plastic wastes, 14.8ms\n",
      "image 172/283 /kaggle/working/datasets/Waste-Detections-6/test/images/IMG20250303140216_jpg.rf.aa15d545fe0a7553d24ae0ac00c5421a.jpg: 640x640 1 Plastic waste, 14.5ms\n",
      "image 173/283 /kaggle/working/datasets/Waste-Detections-6/test/images/IMG20250303140258-copy_jpg.rf.6b226197df482f0658d21555d491c14f.jpg: 640x640 2 Papers, 15.2ms\n",
      "image 174/283 /kaggle/working/datasets/Waste-Detections-6/test/images/IMG20250303140536-copy-2_jpg.rf.cf7e88af0218653703f037802abc9659.jpg: 640x640 1 Plastic bag, 14.6ms\n",
      "image 175/283 /kaggle/working/datasets/Waste-Detections-6/test/images/IMG20250303140640-copy_jpg.rf.d5408743f330dd37a416c35a3e56bb7c.jpg: 640x640 3 Papers, 15.9ms\n",
      "image 176/283 /kaggle/working/datasets/Waste-Detections-6/test/images/IMG20250303140656-copy_jpg.rf.439220213986b73475a6394d5721813a.jpg: 640x640 1 Plastic bag, 1 Plastic waste, 13.0ms\n",
      "image 177/283 /kaggle/working/datasets/Waste-Detections-6/test/images/IMG20250303140703-copy_jpg.rf.a8b67a0f6724e823cc148d9bd2a2b29c.jpg: 640x640 1 Plastic bag, 13.0ms\n",
      "image 178/283 /kaggle/working/datasets/Waste-Detections-6/test/images/IMG20250303140757-copy_jpg.rf.1db1d2fa8c5ba1269c2c39ce28716e44.jpg: 640x640 1 Plastic bag, 13.1ms\n",
      "image 179/283 /kaggle/working/datasets/Waste-Detections-6/test/images/IMG20250303140757-copy_jpg.rf.2c0dceddfd4fce4c7d95fe8dbb19d566.jpg: 640x640 1 Plastic bag, 13.0ms\n",
      "image 180/283 /kaggle/working/datasets/Waste-Detections-6/test/images/IMG20250303140859-copy-2_jpg.rf.97e984bbeec8d166e379ccd8314797dd.jpg: 640x640 1 Plastic bag, 13.6ms\n",
      "image 181/283 /kaggle/working/datasets/Waste-Detections-6/test/images/IMG20250303142804_jpg.rf.85f6f89f02b5a57114feb3f234e2f8a4.jpg: 640x640 7 Papers, 13.1ms\n",
      "image 182/283 /kaggle/working/datasets/Waste-Detections-6/test/images/IMG20250303142901-copy_jpg.rf.b2589acb0452da8ea682b0c1775ce975.jpg: 640x640 6 Papers, 13.7ms\n",
      "image 183/283 /kaggle/working/datasets/Waste-Detections-6/test/images/IMG20250313173333-copy_jpg.rf.f4390141ee173623842d9839827eb9ba.jpg: 640x640 5 Plastic bags, 4 Plastic wastes, 12.9ms\n",
      "image 184/283 /kaggle/working/datasets/Waste-Detections-6/test/images/IMG20250313173417-copy_jpg.rf.c45d226ca837e2d769e517364e49c988.jpg: 640x640 1 Paper, 2 Plastic wastes, 13.9ms\n",
      "image 185/283 /kaggle/working/datasets/Waste-Detections-6/test/images/IMG20250313173626-copy_jpg.rf.38aa7e1fd08daa3dfa4c8f8e7f41291c.jpg: 640x640 1 Plastic waste, 13.4ms\n",
      "image 186/283 /kaggle/working/datasets/Waste-Detections-6/test/images/IMG20250313173703-copy_jpg.rf.8f489ddda48c561efc3e37e7f0854173.jpg: 640x640 1 Plastic bag, 14.7ms\n",
      "image 187/283 /kaggle/working/datasets/Waste-Detections-6/test/images/IMG20250313173706-copy_jpg.rf.0edd6d9f2ba273f454a3a5165d2d4640.jpg: 640x640 1 Plastic bag, 13.4ms\n",
      "image 188/283 /kaggle/working/datasets/Waste-Detections-6/test/images/IMG20250313173706_jpg.rf.6789ea5b6f531ccaeaf9f1c034bd799b.jpg: 640x640 1 Plastic bag, 13.3ms\n",
      "image 189/283 /kaggle/working/datasets/Waste-Detections-6/test/images/IMG20250313173726-copy_jpg.rf.c1d412a0f9f082235c5f892e4c21b7f2.jpg: 640x640 1 Paper, 13.1ms\n",
      "image 190/283 /kaggle/working/datasets/Waste-Detections-6/test/images/IMG20250313173741_jpg.rf.248f903aa7b103ed8d23402f76c1464a.jpg: 640x640 1 Paper, 12.9ms\n",
      "image 191/283 /kaggle/working/datasets/Waste-Detections-6/test/images/IMG20250313173747-copy_jpg.rf.b7b3e0df1473a960e6a242b74b804274.jpg: 640x640 1 Paper, 13.8ms\n",
      "image 192/283 /kaggle/working/datasets/Waste-Detections-6/test/images/IMG20250313173804-copy_jpg.rf.f472bf75c34cb23d251da70a5a15fec9.jpg: 640x640 1 Paper, 12.9ms\n",
      "image 193/283 /kaggle/working/datasets/Waste-Detections-6/test/images/IMG20250313173819-copy_jpg.rf.8444a5b0d4455546b644f7a3f6cbfb51.jpg: 640x640 1 Plastic bag, 13.8ms\n",
      "image 194/283 /kaggle/working/datasets/Waste-Detections-6/test/images/IMG20250313173834-copy_jpg.rf.2f35fa31737aab362f3304cf20488aca.jpg: 640x640 1 Plastic bag, 2 Plastic wastes, 13.2ms\n",
      "image 195/283 /kaggle/working/datasets/Waste-Detections-6/test/images/IMG20250313173938-copy_jpg.rf.53e0d3af7d4eb8969357df866c798e0d.jpg: 640x640 1 Plastic bag, 13.1ms\n",
      "image 196/283 /kaggle/working/datasets/Waste-Detections-6/test/images/IMG20250313173955_jpg.rf.c7c0fc0055aaaf7948442b76911e5430.jpg: 640x640 1 Paper, 1 Plastic bag, 13.3ms\n",
      "image 197/283 /kaggle/working/datasets/Waste-Detections-6/test/images/IMG20250313174254-copy_jpg.rf.e5291a8bf72f249de46d26696991ecda.jpg: 640x640 2 Plastic wastes, 13.1ms\n",
      "image 198/283 /kaggle/working/datasets/Waste-Detections-6/test/images/IMG20250313174318-copy_jpg.rf.a63fabaeff44639df41e00c2415ae64a.jpg: 640x640 1 Plastic Bottle, 14.0ms\n",
      "image 199/283 /kaggle/working/datasets/Waste-Detections-6/test/images/IMG20250313174323-copy_jpg.rf.c8c7a265e93845ef1f7093202211adf1.jpg: 640x640 1 Plastic Bottle, 13.1ms\n",
      "image 200/283 /kaggle/working/datasets/Waste-Detections-6/test/images/IMG20250313174329_jpg.rf.1f33ec8856ca6df55548fd19615c59f0.jpg: 640x640 1 Plastic bag, 13.8ms\n",
      "image 201/283 /kaggle/working/datasets/Waste-Detections-6/test/images/IMG20250313174341-copy_jpg.rf.665be829911d0edd29bde0c8ca3b12bc.jpg: 640x640 1 Plastic Bottle, 13.0ms\n",
      "image 202/283 /kaggle/working/datasets/Waste-Detections-6/test/images/IMG20250313174405_jpg.rf.26ec300a3367c25938bf06ce7fecf05b.jpg: 640x640 3 Plastic bags, 13.2ms\n",
      "image 203/283 /kaggle/working/datasets/Waste-Detections-6/test/images/IMG20250313174432_jpg.rf.79ca69e906d00ce8c182034e86d78742.jpg: 640x640 1 Plastic bag, 13.1ms\n",
      "image 204/283 /kaggle/working/datasets/Waste-Detections-6/test/images/IMG20250313174436_jpg.rf.22669884bfbd6951f3f4a5d6744c0f70.jpg: 640x640 1 Plastic bag, 12.9ms\n",
      "image 205/283 /kaggle/working/datasets/Waste-Detections-6/test/images/IMG20250313174450-copy_jpg.rf.9bca87298b19d815d4f67d2f01e415da.jpg: 640x640 1 Plastic bag, 13.3ms\n",
      "image 206/283 /kaggle/working/datasets/Waste-Detections-6/test/images/IMG20250313174454_jpg.rf.74aacf09cd92605c2b64fee0db4b4b50.jpg: 640x640 1 Plastic bag, 12.9ms\n",
      "image 207/283 /kaggle/working/datasets/Waste-Detections-6/test/images/IMG20250313174515-copy_jpg.rf.d04cdbdde3ee51e6beddfc65679ba195.jpg: 640x640 3 Plastic wastes, 13.9ms\n",
      "image 208/283 /kaggle/working/datasets/Waste-Detections-6/test/images/IMG20250313174545-copy_jpg.rf.94d87803a6bdc2029805577e02576ca2.jpg: 640x640 3 Plastic bags, 12.9ms\n",
      "image 209/283 /kaggle/working/datasets/Waste-Detections-6/test/images/IMG20250313174624-copy_jpg.rf.7d92ab49d04a14bdc6d367252911802d.jpg: 640x640 1 Plastic bag, 13.8ms\n",
      "image 210/283 /kaggle/working/datasets/Waste-Detections-6/test/images/IMG20250313174627-copy_jpg.rf.d066cc291da83f4a42c89a3f9feb23d8.jpg: 640x640 1 Plastic bag, 12.9ms\n",
      "image 211/283 /kaggle/working/datasets/Waste-Detections-6/test/images/IMG20250313174630-copy_jpg.rf.f87c18d168edeea53f11e7c6e74c51d1.jpg: 640x640 1 Plastic bag, 13.0ms\n",
      "image 212/283 /kaggle/working/datasets/Waste-Detections-6/test/images/IMG20250313174645-copy_jpg.rf.e8f578ffffbb8d075a39222b7a403f98.jpg: 640x640 2 Plastic bags, 12.9ms\n",
      "image 213/283 /kaggle/working/datasets/Waste-Detections-6/test/images/IMG20250313174657-copy_jpg.rf.7ac95ac7b0849a81a9884352c6501e9e.jpg: 640x640 17 Plastic bags, 13.2ms\n",
      "image 214/283 /kaggle/working/datasets/Waste-Detections-6/test/images/IMG20250313174821_jpg.rf.c9ff3fd8a30d6bbbe11a1898b650099a.jpg: 640x640 1 Plastic bag, 13.2ms\n",
      "image 215/283 /kaggle/working/datasets/Waste-Detections-6/test/images/IMG20250313174833-copy_jpg.rf.26c938a70b9338d6ad0cc0b135fcaeed.jpg: 640x640 1 Plastic waste, 13.3ms\n",
      "image 216/283 /kaggle/working/datasets/Waste-Detections-6/test/images/IMG20250313174833_jpg.rf.f2d7655684d1a405c78ed000c4343849.jpg: 640x640 1 Plastic waste, 14.2ms\n",
      "image 217/283 /kaggle/working/datasets/Waste-Detections-6/test/images/IMG20250313174856_jpg.rf.b768a1fce7b303aedbf541b9131883da.jpg: 640x640 1 Plastic bag, 13.0ms\n",
      "image 218/283 /kaggle/working/datasets/Waste-Detections-6/test/images/IMG20250313174918-copy_jpg.rf.1a06aad6a9d1db66548fde099976dc46.jpg: 640x640 1 Plastic waste, 14.2ms\n",
      "image 219/283 /kaggle/working/datasets/Waste-Detections-6/test/images/IMG20250313174921-copy_jpg.rf.7eec4af3abcb97bfafcca3c605865984.jpg: 640x640 1 Plastic waste, 12.9ms\n",
      "image 220/283 /kaggle/working/datasets/Waste-Detections-6/test/images/IMG20250313174924-copy_jpg.rf.90351ec28ec065ebd44e8f1d8b075437.jpg: 640x640 1 Plastic waste, 13.5ms\n",
      "image 221/283 /kaggle/working/datasets/Waste-Detections-6/test/images/IMG20250314153714_jpg.rf.a8f13879562a4afb7e692661b33c2a6a.jpg: 640x640 1 Paper, 2 Plastic bags, 2 Plastic wastes, 13.1ms\n",
      "image 222/283 /kaggle/working/datasets/Waste-Detections-6/test/images/IMG20250314153801-copy-2_jpg.rf.1466a28ba1bbdb6b8701624d6749a4e0.jpg: 640x640 1 Plastic bag, 13.2ms\n",
      "image 223/283 /kaggle/working/datasets/Waste-Detections-6/test/images/IMG20250314153801_jpg.rf.f7af3d016fb01ad19934119f2936c0fe.jpg: 640x640 1 Plastic bag, 13.8ms\n",
      "image 224/283 /kaggle/working/datasets/Waste-Detections-6/test/images/IMG20250314153818_jpg.rf.f19e7a59d5b2840b9af6921cf93ddc63.jpg: 640x640 1 Plastic Bottle, 2 Plastic wastes, 13.6ms\n",
      "image 225/283 /kaggle/working/datasets/Waste-Detections-6/test/images/IMG20250314154206_jpg.rf.83df9fc97ee36a0d2adffe5e52092310.jpg: 640x640 1 Paper, 1 Plastic bag, 2 Plastic wastes, 13.9ms\n",
      "image 226/283 /kaggle/working/datasets/Waste-Detections-6/test/images/IMG20250314154308-copy-2_jpg.rf.0a91fe68276013c9b71d0ed72471f073.jpg: 640x640 3 Papers, 2 Plastic bags, 3 Plastic wastes, 13.2ms\n",
      "image 227/283 /kaggle/working/datasets/Waste-Detections-6/test/images/IMG20250314154454_jpg.rf.7de6a17034efa2b7ae277d7377255fb4.jpg: 640x640 2 Plastic bags, 1 Plastic waste, 13.8ms\n",
      "image 228/283 /kaggle/working/datasets/Waste-Detections-6/test/images/IMG20250314154548_jpg.rf.45fa373cdb140ba752b1e6362f6f677e.jpg: 640x640 1 Plastic Bottle, 13.1ms\n",
      "image 229/283 /kaggle/working/datasets/Waste-Detections-6/test/images/IMG20250314154552_jpg.rf.fb78d5ded2a2b61da71ff6f945f146f0.jpg: 640x640 2 Plastic Bottles, 13.7ms\n",
      "image 230/283 /kaggle/working/datasets/Waste-Detections-6/test/images/IMG20250314154601_jpg.rf.7065777e3fde5f54371116e4df389545.jpg: 640x640 1 Plastic Bottle, 14.6ms\n",
      "image 231/283 /kaggle/working/datasets/Waste-Detections-6/test/images/IMG20250314154907-copy_jpg.rf.e724c3c68b3a1a90f70a6dc1aa22f328.jpg: 640x640 1 Paper, 2 Plastic bags, 13.9ms\n",
      "image 232/283 /kaggle/working/datasets/Waste-Detections-6/test/images/IMG20250314155559_jpg.rf.39f8dbc7d9561b67c1709002e29c311a.jpg: 640x640 2 Papers, 1 Plastic bag, 13.0ms\n",
      "image 233/283 /kaggle/working/datasets/Waste-Detections-6/test/images/IMG20250314155649_jpg.rf.edae9111325daf7e4d5b00487f58da79.jpg: 640x640 1 Plastic bag, 3 Plastic wastes, 13.1ms\n",
      "image 234/283 /kaggle/working/datasets/Waste-Detections-6/test/images/IMG20250314161501-copy-2_jpg.rf.dc8c44357c70a045a3051245e2e9c280.jpg: 640x640 1 Plastic bag, 13.0ms\n",
      "image 235/283 /kaggle/working/datasets/Waste-Detections-6/test/images/IMG20250314161501-copy_jpg.rf.8e5c05891de0b597c0fd333f7e3d4aaa.jpg: 640x640 2 Papers, 1 Plastic bag, 12.9ms\n",
      "image 236/283 /kaggle/working/datasets/Waste-Detections-6/test/images/IMG20250314161551_jpg.rf.38249d4366e9a5ea8d178e024edc4ef1.jpg: 640x640 1 Paper, 12.9ms\n",
      "image 237/283 /kaggle/working/datasets/Waste-Detections-6/test/images/IMG_20250303_134909_jpg.rf.63dcc3fc44266cb15f4e8939ec5a160c.jpg: 640x640 1 Paper, 5 Plastic wastes, 13.0ms\n",
      "image 238/283 /kaggle/working/datasets/Waste-Detections-6/test/images/IMG_20250303_135449_jpg.rf.d595a94ac16ff07e2ab8f9d05ca78534.jpg: 640x640 1 Paper, 13.7ms\n",
      "image 239/283 /kaggle/working/datasets/Waste-Detections-6/test/images/IMG_20250303_140003_jpg.rf.ae423aa20e09f04820940e04285b36e1.jpg: 640x640 1 Plastic waste, 12.9ms\n",
      "image 240/283 /kaggle/working/datasets/Waste-Detections-6/test/images/IMG_20250303_140101_jpg.rf.ac9114020be6f82b77bf9bdacd0cae3b.jpg: 640x640 2 Plastic wastes, 13.7ms\n",
      "image 241/283 /kaggle/working/datasets/Waste-Detections-6/test/images/IMG_20250303_140651_jpg.rf.573ea59f3e848a62f442fd57f46adfc9.jpg: 640x640 1 Plastic Bottle, 13.0ms\n",
      "image 242/283 /kaggle/working/datasets/Waste-Detections-6/test/images/IMG_20250303_140952_jpg.rf.ab6c5c33031c747687dee22c53b2382f.jpg: 640x640 1 Plastic bag, 13.0ms\n",
      "image 243/283 /kaggle/working/datasets/Waste-Detections-6/test/images/IMG_20250303_141419_jpg.rf.95cbb066dce619af159f5f20558612ef.jpg: 640x640 11 Plastic Bottles, 13.1ms\n",
      "image 244/283 /kaggle/working/datasets/Waste-Detections-6/test/images/IMG_20250303_141608_jpg.rf.b8062139400af7e8456d759367b9ea51.jpg: 640x640 1 Plastic waste, 13.0ms\n",
      "image 245/283 /kaggle/working/datasets/Waste-Detections-6/test/images/IMG_20250303_141637_jpg.rf.3069e1f427a326e0aead18c0952403cb.jpg: 640x640 7 Plastic wastes, 13.1ms\n",
      "image 246/283 /kaggle/working/datasets/Waste-Detections-6/test/images/IMG_20250303_141844_jpg.rf.76cdf88b6df61f517cd1816d1bbc766e.jpg: 640x640 2 Plastic wastes, 13.0ms\n",
      "image 247/283 /kaggle/working/datasets/Waste-Detections-6/test/images/IMG_20250303_141854_jpg.rf.64bfa5d62f016551483907af24aa14d7.jpg: 640x640 4 Plastic wastes, 13.5ms\n",
      "image 248/283 /kaggle/working/datasets/Waste-Detections-6/test/images/IMG_20250303_142033_jpg.rf.938a28df7684a7a0ee5332191b3e4260.jpg: 640x640 4 Plastic wastes, 12.9ms\n",
      "image 249/283 /kaggle/working/datasets/Waste-Detections-6/test/images/IMG_20250303_142040_jpg.rf.2fcc28dcad2aa2d04912d21f03cca0e7.jpg: 640x640 1 Paper, 2 Plastic wastes, 13.6ms\n",
      "image 250/283 /kaggle/working/datasets/Waste-Detections-6/test/images/IMG_20250314_153136_jpg.rf.4c811fc5e7587aa899162bb6096a2114.jpg: 640x640 1 Plastic bag, 12.9ms\n",
      "image 251/283 /kaggle/working/datasets/Waste-Detections-6/test/images/IMG_20250314_153441_jpg.rf.47b01cd15155da4bbc0b7b1baf672069.jpg: 640x640 1 Paper, 13.7ms\n",
      "image 252/283 /kaggle/working/datasets/Waste-Detections-6/test/images/IMG_20250314_153634_jpg.rf.3f577071d89d14d9e9f7a7571a36c182.jpg: 640x640 1 Plastic waste, 12.8ms\n",
      "image 253/283 /kaggle/working/datasets/Waste-Detections-6/test/images/IMG_20250314_153702_jpg.rf.8fd36fb064f608403a508f9fbfc0c692.jpg: 640x640 2 Papers, 12.9ms\n",
      "image 254/283 /kaggle/working/datasets/Waste-Detections-6/test/images/IMG_20250314_153813_jpg.rf.fe5f38570f73aeccb583afc68e50706a.jpg: 640x640 1 Plastic Bottle, 13.2ms\n",
      "image 255/283 /kaggle/working/datasets/Waste-Detections-6/test/images/IMG_20250314_154220_jpg.rf.0f5054dacb9f1ef1d289fec0d68b6acd.jpg: 640x640 1 Plastic bag, 1 Plastic waste, 13.5ms\n",
      "image 256/283 /kaggle/working/datasets/Waste-Detections-6/test/images/IMG_20250314_154226_jpg.rf.0e5237892f1dd6026a61e838ffa8d257.jpg: 640x640 1 Paper, 2 Plastic wastes, 13.8ms\n",
      "image 257/283 /kaggle/working/datasets/Waste-Detections-6/test/images/IMG_20250314_154435_jpg.rf.4e8590d73b53b5f8998afd134df93abf.jpg: 640x640 3 Plastic bags, 13.1ms\n",
      "image 258/283 /kaggle/working/datasets/Waste-Detections-6/test/images/IMG_20250314_154505_jpg.rf.f750428871539edd12d774214f8c560e.jpg: 640x640 1 Plastic bag, 13.5ms\n",
      "image 259/283 /kaggle/working/datasets/Waste-Detections-6/test/images/IMG_20250314_154630_jpg.rf.76c3d725b5859b5ce7f7906627205e93.jpg: 640x640 1 Plastic Bottle, 13.1ms\n",
      "image 260/283 /kaggle/working/datasets/Waste-Detections-6/test/images/IMG_20250314_155400_jpg.rf.cc337140b9fd062f4ec1825b52447ec9.jpg: 640x640 2 Plastic wastes, 12.9ms\n",
      "image 261/283 /kaggle/working/datasets/Waste-Detections-6/test/images/IMG_20250314_155438_jpg.rf.cc8d172750e7419a9a3c6e4e75b019b9.jpg: 640x640 1 Plastic Bottle, 13.0ms\n",
      "image 262/283 /kaggle/working/datasets/Waste-Detections-6/test/images/IMG_20250314_155746_jpg.rf.0cf0fe480551db3ad7c1946c7b390b82.jpg: 640x640 1 Plastic bag, 2 Plastic wastes, 12.9ms\n",
      "image 263/283 /kaggle/working/datasets/Waste-Detections-6/test/images/IMG_20250314_155822_jpg.rf.e5ba34c7e929eaeb72e92a7b3fdf223f.jpg: 640x640 (no detections), 13.0ms\n",
      "image 264/283 /kaggle/working/datasets/Waste-Detections-6/test/images/IMG_20250314_155940_jpg.rf.53f8e93df289798e71f09acddb32b442.jpg: 640x640 1 Plastic waste, 13.4ms\n",
      "image 265/283 /kaggle/working/datasets/Waste-Detections-6/test/images/IMG_20250314_160732_jpg.rf.5ddd1abf0a4889aa7589fc05ce1a8c5a.jpg: 640x640 1 Plastic bag, 13.6ms\n",
      "image 266/283 /kaggle/working/datasets/Waste-Detections-6/test/images/IMG_20250314_160834_jpg.rf.6494ce373bc12826ff7bfc029ea8fb99.jpg: 640x640 2 Papers, 13.0ms\n",
      "image 267/283 /kaggle/working/datasets/Waste-Detections-6/test/images/IMG_20250314_161057_jpg.rf.75768d2c46f126478c90e68fed8b9d96.jpg: 640x640 7 Papers, 13.4ms\n",
      "image 268/283 /kaggle/working/datasets/Waste-Detections-6/test/images/IMG_4923_JPG.rf.a2c44f762fa170b454a5a049d57d11e0.jpg: 640x640 2 Plastic bags, 1 Plastic waste, 13.0ms\n",
      "image 269/283 /kaggle/working/datasets/Waste-Detections-6/test/images/IMG_4932_JPG.rf.f8c354766ce9f2747bad53f68bef423b.jpg: 640x640 1 Plastic waste, 13.1ms\n",
      "image 270/283 /kaggle/working/datasets/Waste-Detections-6/test/images/IMG_4951_JPG.rf.a794f9d2fd97ec6d9b73f30590fd3a17.jpg: 640x640 4 Papers, 1 Plastic bag, 3 Plastic wastes, 13.0ms\n",
      "image 271/283 /kaggle/working/datasets/Waste-Detections-6/test/images/IMG_4964_JPG.rf.a1de33ac9a68aff6468cb412fae2f06f.jpg: 640x640 1 Paper, 1 Plastic bag, 1 Plastic waste, 13.0ms\n",
      "image 272/283 /kaggle/working/datasets/Waste-Detections-6/test/images/IMG_4968_JPG.rf.4830547ba8919db9a8e1c52e2299e678.jpg: 640x640 2 Plastic wastes, 13.0ms\n",
      "image 273/283 /kaggle/working/datasets/Waste-Detections-6/test/images/IMG_4980_JPG.rf.2a30f2679e3936d740b8642620900a35.jpg: 640x640 8 Papers, 3 Plastic bags, 1 Plastic waste, 13.2ms\n",
      "image 274/283 /kaggle/working/datasets/Waste-Detections-6/test/images/IMG_5007_JPG.rf.bdbf79547024dd102d944990047cb13d.jpg: 640x640 3 Papers, 1 Plastic bag, 13.0ms\n",
      "image 275/283 /kaggle/working/datasets/Waste-Detections-6/test/images/IMG_5020_JPG.rf.2412fcde047f14d2dd60bad58075d282.jpg: 640x640 1 Paper, 13.3ms\n",
      "image 276/283 /kaggle/working/datasets/Waste-Detections-6/test/images/IMG_5604-copy_jpg.rf.d841d774f7ad09e9a617e97092cbaa17.jpg: 640x640 2 Plastic wastes, 13.3ms\n",
      "image 277/283 /kaggle/working/datasets/Waste-Detections-6/test/images/IMG_5784_JPG.rf.27aa5d631c1a0a49402021421b7c37a9.jpg: 640x640 5 Plastic wastes, 12.9ms\n",
      "image 278/283 /kaggle/working/datasets/Waste-Detections-6/test/images/IMG_6404_JPG.rf.29c6d82b400a10ea969d9d8a6370a0b7.jpg: 640x640 7 Plastic wastes, 13.7ms\n",
      "image 279/283 /kaggle/working/datasets/Waste-Detections-6/test/images/IMG_6761-copy_jpg.rf.868cbc5d73f9cb4a325c02dc248d5262.jpg: 640x640 1 Plastic Bottle, 12.9ms\n",
      "image 280/283 /kaggle/working/datasets/Waste-Detections-6/test/images/IMG_7324-copy_jpg.rf.1e6f5f4ab5d05b3055db364f27a6de7b.jpg: 640x640 8 Plastic Bottles, 2 Plastic wastes, 13.9ms\n",
      "image 281/283 /kaggle/working/datasets/Waste-Detections-6/test/images/IMG_7405-copy_jpg.rf.19005db216b7c5c21acc0008a74c23d7.jpg: 640x640 8 Plastic Bottles, 2 Plastic wastes, 13.0ms\n",
      "image 282/283 /kaggle/working/datasets/Waste-Detections-6/test/images/IMG_7530_JPG.rf.db8c4c92f227e179d8cd6955a1c0bce1.jpg: 640x640 1 Paper, 13.7ms\n",
      "image 283/283 /kaggle/working/datasets/Waste-Detections-6/test/images/IMG_7712_JPG.rf.d54f8deec4e94772da6d63695b8fb036.jpg: 640x640 (no detections), 12.9ms\n",
      "Speed: 1.3ms preprocess, 13.4ms inference, 2.3ms postprocess per image at shape (1, 3, 640, 640)\n",
      "Results saved to \u001b[1m/kaggle/working/runs/detect/predict2\u001b[0m\n",
      "💡 Learn more at https://docs.ultralytics.com/modes/predict\n"
     ]
    }
   ],
   "source": [
    "%cd {HOME}\n",
    "!yolo task=detect mode=predict model={HOME}/runs/detect/train/weights/best.pt conf=0.25 source={dataset.location}/test/images save=True"
   ]
  },
  {
   "cell_type": "markdown",
   "metadata": {},
   "source": []
  },
  {
   "cell_type": "code",
   "execution_count": null,
   "metadata": {},
   "outputs": [],
   "source": [
    "import glob\n",
    "from IPython.display import Image, display\n",
    "\n",
    "for image_path in glob.glob(f'{HOME}/runs/detect/predict2/*.jpg')[:3]:\n",
    "      display(Image(filename=image_path, width=600))\n",
    "      print(\"\\n\")"
   ]
  },
  {
   "cell_type": "code",
   "execution_count": null,
   "metadata": {},
   "outputs": [],
   "source": [
    "! zip -r yolov12n_recyclablewaste.zip {HOME}/runs/"
   ]
  }
 ],
 "metadata": {
  "kaggle": {
   "accelerator": "nvidiaTeslaT4",
   "dataSources": [],
   "dockerImageVersionId": 31090,
   "isGpuEnabled": true,
   "isInternetEnabled": true,
   "language": "python",
   "sourceType": "notebook"
  },
  "kernelspec": {
   "display_name": "Python 3",
   "language": "python",
   "name": "python3"
  },
  "language_info": {
   "codemirror_mode": {
    "name": "ipython",
    "version": 3
   },
   "file_extension": ".py",
   "mimetype": "text/x-python",
   "name": "python",
   "nbconvert_exporter": "python",
   "pygments_lexer": "ipython3",
   "version": "3.11.13"
  }
 },
 "nbformat": 4,
 "nbformat_minor": 4
}
