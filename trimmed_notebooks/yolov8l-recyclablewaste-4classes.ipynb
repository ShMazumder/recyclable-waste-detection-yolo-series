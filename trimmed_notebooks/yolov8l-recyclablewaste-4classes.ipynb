{
 "cells": [
  {
   "cell_type": "code",
   "execution_count": 1,
   "metadata": {
    "execution": {
     "iopub.execute_input": "2025-09-21T07:58:36.179700Z",
     "iopub.status.busy": "2025-09-21T07:58:36.179447Z",
     "iopub.status.idle": "2025-09-21T07:58:36.421458Z",
     "shell.execute_reply": "2025-09-21T07:58:36.420342Z",
     "shell.execute_reply.started": "2025-09-21T07:58:36.179670Z"
    },
    "trusted": true
   },
   "outputs": [],
   "source": [
    "!ls\n",
    "!rm -rf *"
   ]
  },
  {
   "cell_type": "code",
   "execution_count": 2,
   "metadata": {
    "execution": {
     "iopub.execute_input": "2025-09-21T07:58:36.423831Z",
     "iopub.status.busy": "2025-09-21T07:58:36.423418Z",
     "iopub.status.idle": "2025-09-21T07:58:36.649146Z",
     "shell.execute_reply": "2025-09-21T07:58:36.648334Z",
     "shell.execute_reply.started": "2025-09-21T07:58:36.423791Z"
    },
    "trusted": true
   },
   "outputs": [
    {
     "name": "stdout",
     "output_type": "stream",
     "text": [
      "Sun Sep 21 07:58:36 2025       \n",
      "+-----------------------------------------------------------------------------------------+\n",
      "| NVIDIA-SMI 560.35.03              Driver Version: 560.35.03      CUDA Version: 12.6     |\n",
      "|-----------------------------------------+------------------------+----------------------+\n",
      "| GPU  Name                 Persistence-M | Bus-Id          Disp.A | Volatile Uncorr. ECC |\n",
      "| Fan  Temp   Perf          Pwr:Usage/Cap |           Memory-Usage | GPU-Util  Compute M. |\n",
      "|                                         |                        |               MIG M. |\n",
      "|=========================================+========================+======================|\n",
      "|   0  Tesla T4                       Off |   00000000:00:04.0 Off |                    0 |\n",
      "| N/A   44C    P8             10W /   70W |       1MiB /  15360MiB |      0%      Default |\n",
      "|                                         |                        |                  N/A |\n",
      "+-----------------------------------------+------------------------+----------------------+\n",
      "|   1  Tesla T4                       Off |   00000000:00:05.0 Off |                    0 |\n",
      "| N/A   48C    P8              9W /   70W |       1MiB /  15360MiB |      0%      Default |\n",
      "|                                         |                        |                  N/A |\n",
      "+-----------------------------------------+------------------------+----------------------+\n",
      "                                                                                         \n",
      "+-----------------------------------------------------------------------------------------+\n",
      "| Processes:                                                                              |\n",
      "|  GPU   GI   CI        PID   Type   Process name                              GPU Memory |\n",
      "|        ID   ID                                                               Usage      |\n",
      "|=========================================================================================|\n",
      "|  No running processes found                                                             |\n",
      "+-----------------------------------------------------------------------------------------+\n"
     ]
    }
   ],
   "source": [
    "!nvidia-smi"
   ]
  },
  {
   "cell_type": "code",
   "execution_count": 3,
   "metadata": {
    "execution": {
     "iopub.execute_input": "2025-09-21T07:58:42.440707Z",
     "iopub.status.busy": "2025-09-21T07:58:42.439943Z",
     "iopub.status.idle": "2025-09-21T07:58:42.446023Z",
     "shell.execute_reply": "2025-09-21T07:58:42.445172Z",
     "shell.execute_reply.started": "2025-09-21T07:58:42.440656Z"
    },
    "executionInfo": {
     "elapsed": 383,
     "status": "ok",
     "timestamp": 1718878266201,
     "user": {
      "displayName": "Nguyen",
      "userId": "17433902118739490528"
     },
     "user_tz": -420
    },
    "id": "CjpPg4mGKc1v",
    "outputId": "49758e88-798a-4578-af87-a2ad7ffe8042",
    "trusted": true
   },
   "outputs": [
    {
     "name": "stdout",
     "output_type": "stream",
     "text": [
      "/kaggle/working\n"
     ]
    }
   ],
   "source": [
    "import os\n",
    "HOME = os.getcwd()\n",
    "print(HOME)"
   ]
  },
  {
   "cell_type": "code",
   "execution_count": null,
   "metadata": {
    "trusted": true
   },
   "outputs": [],
   "source": [
    "import torch\n",
    "print(torch.__version__)  # Should print 2.6.0+cu124\n",
    "print(torch.cuda.is_available())  # Should print True\n",
    "print(torch.cuda.device_count())  # Should print 2\n",
    "print(torch.cuda.get_device_name(0))  # Should print Tesla T4\n",
    "print(torch.cuda.get_device_name(1))  # Should print Tesla T4\n",
    "\n",
    "# Test NMS\n",
    "from torchvision.ops import nms\n",
    "\n",
    "# Check installed package versions\n",
    "!pip list | grep -E \"torch|torchvision|torchaudio|ultralytics|roboflow|fsspec|packaging|numpy|matplotlib|scikit-learn|jupyter-client\""
   ]
  },
  {
   "cell_type": "code",
   "execution_count": null,
   "metadata": {},
   "outputs": [],
   "source": [
    "# !pip install torch==2.5.1\n",
    "# !pip install --upgrade --no-cache-dir torchvision==0.20.1+cu124 -f https://download.pytorch.org/whl/torch_stable.html\n",
    "!pip install -U ultralytics==8.2.103\n",
    "!pip install -U ray[tune]"
   ]
  },
  {
   "cell_type": "code",
   "execution_count": null,
   "metadata": {
    "trusted": true
   },
   "outputs": [],
   "source": [
    "import torch\n",
    "import torchvision\n",
    "print(torch.__version__)  # Should print 2.6.0+cu124\n",
    "print(torchvision.__version__)  # Should print 0.21.0+cu124\n",
    "print(torch.cuda.is_available())  # Should print True\n",
    "print(torch.cuda.device_count())  # Should print 2\n",
    "print(torch.cuda.get_device_name(0))  # Should print Tesla T4\n",
    "print(torch.cuda.get_device_name(1))  # Should print Tesla T4\n",
    "\n",
    "# Test NMS\n",
    "from torchvision.ops import nms\n",
    "# Simple NMS test\n",
    "boxes = torch.tensor([[0, 0, 10, 10], [1, 1, 11, 11], [0, 0, 5, 5]], dtype=torch.float32, device='cuda')\n",
    "scores = torch.tensor([0.9, 0.8, 0.7], dtype=torch.float32, device='cuda')\n",
    "keep = nms(boxes, scores, iou_threshold=0.5)\n",
    "print(\"NMS keep indices:\", keep)  # Should print tensor with indices of kept boxes\n",
    "\n",
    "# Check installed package versions\n",
    "!pip list | grep -E \"torch|torchvision|torchaudio|ultralytics|roboflow|fsspec|packaging|numpy|matplotlib|scikit-learn|jupyter-client|thinc\""
   ]
  },
  {
   "cell_type": "code",
   "execution_count": 5,
   "metadata": {
    "execution": {
     "iopub.execute_input": "2025-09-21T08:00:58.127075Z",
     "iopub.status.busy": "2025-09-21T08:00:58.126261Z",
     "iopub.status.idle": "2025-09-21T08:01:36.755228Z",
     "shell.execute_reply": "2025-09-21T08:01:36.754666Z",
     "shell.execute_reply.started": "2025-09-21T08:00:58.127042Z"
    },
    "executionInfo": {
     "elapsed": 76383,
     "status": "ok",
     "timestamp": 1718878350222,
     "user": {
      "displayName": "Nguyen",
      "userId": "17433902118739490528"
     },
     "user_tz": -420
    },
    "id": "tdSMcABDNKW-",
    "outputId": "a3c4531a-32bc-4c9b-b623-38f99e233d03",
    "trusted": true
   },
   "outputs": [
    {
     "name": "stdout",
     "output_type": "stream",
     "text": [
      "Ultralytics YOLOv8.2.103 🚀 Python-3.11.13 torch-2.6.0+cu124 CUDA:0 (Tesla T4, 15095MiB)\n",
      "Setup complete ✅ (4 CPUs, 31.4 GB RAM, 6411.7/8062.4 GB disk)\n"
     ]
    }
   ],
   "source": [
    "from IPython import display\n",
    "display.clear_output()\n",
    "\n",
    "import ultralytics\n",
    "ultralytics.checks()"
   ]
  },
  {
   "cell_type": "code",
   "execution_count": null,
   "metadata": {},
   "outputs": [],
   "source": [
    "!yolo settings"
   ]
  },
  {
   "cell_type": "code",
   "execution_count": 7,
   "metadata": {
    "execution": {
     "iopub.execute_input": "2025-09-21T08:02:11.062849Z",
     "iopub.status.busy": "2025-09-21T08:02:11.062466Z",
     "iopub.status.idle": "2025-09-21T08:02:11.067332Z",
     "shell.execute_reply": "2025-09-21T08:02:11.066586Z",
     "shell.execute_reply.started": "2025-09-21T08:02:11.062804Z"
    },
    "executionInfo": {
     "elapsed": 359,
     "status": "ok",
     "timestamp": 1718878472413,
     "user": {
      "displayName": "Nguyen",
      "userId": "17433902118739490528"
     },
     "user_tz": -420
    },
    "id": "VOEYrlBoP9-E",
    "trusted": true
   },
   "outputs": [],
   "source": [
    "from ultralytics import YOLO\n",
    "\n",
    "from IPython.display import display, Image"
   ]
  },
  {
   "cell_type": "code",
   "execution_count": 8,
   "metadata": {
    "execution": {
     "iopub.execute_input": "2025-09-21T08:02:25.536257Z",
     "iopub.status.busy": "2025-09-21T08:02:25.535695Z",
     "iopub.status.idle": "2025-09-21T08:02:39.813329Z",
     "shell.execute_reply": "2025-09-21T08:02:39.812526Z",
     "shell.execute_reply.started": "2025-09-21T08:02:25.536234Z"
    },
    "executionInfo": {
     "elapsed": 8126,
     "status": "ok",
     "timestamp": 1718878488546,
     "user": {
      "displayName": "Nguyen",
      "userId": "17433902118739490528"
     },
     "user_tz": -420
    },
    "id": "FDbMt_M6PiXb",
    "outputId": "d612c549-2133-4236-d8dd-0a86b15fb6f3",
    "trusted": true
   },
   "outputs": [
    {
     "name": "stdout",
     "output_type": "stream",
     "text": [
      "/kaggle/working\n",
      "Downloading https://github.com/ultralytics/assets/releases/download/v8.2.0/yolov8l.pt to 'yolov8l.pt'...\n",
      "100%|███████████████████████████████████████| 83.7M/83.7M [00:00<00:00, 214MB/s]\n",
      "Ultralytics YOLOv8.2.103 🚀 Python-3.11.13 torch-2.6.0+cu124 CUDA:0 (Tesla T4, 15095MiB)\n",
      "YOLOv8l summary (fused): 268 layers, 43,668,288 parameters, 0 gradients, 165.2 GFLOPs\n",
      "\n",
      "Downloading https://media.roboflow.com/notebooks/examples/dog.jpeg to 'dog.jpeg'...\n",
      "100%|████████████████████████████████████████| 104k/104k [00:00<00:00, 48.1MB/s]\n",
      "image 1/1 /kaggle/working/dog.jpeg: 640x384 1 person, 1 car, 2 dogs, 2 backpacks, 60.9ms\n",
      "Speed: 15.8ms preprocess, 60.9ms inference, 412.3ms postprocess per image at shape (1, 3, 640, 384)\n",
      "Results saved to \u001b[1mruns/detect/predict\u001b[0m\n",
      "💡 Learn more at https://docs.ultralytics.com/modes/predict\n"
     ]
    }
   ],
   "source": [
    "%cd {HOME}\n",
    "!yolo task=detect mode=predict model=yolov8l.pt conf=0.25 source='https://media.roboflow.com/notebooks/examples/dog.jpeg' save=True"
   ]
  },
  {
   "cell_type": "code",
   "execution_count": null,
   "metadata": {},
   "outputs": [],
   "source": [
    "%cd {HOME}\n",
    "Image(filename='runs/detect/predict/dog.jpeg', height=600)"
   ]
  },
  {
   "cell_type": "code",
   "execution_count": null,
   "metadata": {
    "executionInfo": {
     "elapsed": 4466,
     "status": "ok",
     "timestamp": 1718874639567,
     "user": {
      "displayName": "Nguyen",
      "userId": "17433902118739490528"
     },
     "user_tz": -420
    },
    "id": "Rx9NWF-sVN6Y",
    "outputId": "8472a872-74eb-4d8a-def3-4d71bcf4a709",
    "trusted": true
   },
   "outputs": [],
   "source": [
    "# model = YOLO(f'{HOME}/yolov8l.pt')\n",
    "# results = model.predict(source='https://media.roboflow.com/notebooks/examples/dog.jpeg', conf=0.25)"
   ]
  },
  {
   "cell_type": "code",
   "execution_count": null,
   "metadata": {
    "id": "kAi4PvrItTCf",
    "outputId": "3a1a1c21-be10-437f-aa14-4995d5321789",
    "trusted": true
   },
   "outputs": [],
   "source": [
    "# results[0].boxes.xyxy"
   ]
  },
  {
   "cell_type": "code",
   "execution_count": null,
   "metadata": {
    "id": "HqT2M01K1LUb",
    "outputId": "ac8d0988-8be7-4fec-c62b-2cd8fe9b5371",
    "trusted": true
   },
   "outputs": [],
   "source": [
    "# results[0].boxes.conf"
   ]
  },
  {
   "cell_type": "code",
   "execution_count": null,
   "metadata": {
    "id": "gKIwJ5yw1PMb",
    "outputId": "ee27ea55-240f-43fd-d9a3-e8b8a73149fb",
    "trusted": true
   },
   "outputs": [],
   "source": [
    "# results[0].boxes.cls"
   ]
  },
  {
   "cell_type": "code",
   "execution_count": null,
   "metadata": {},
   "outputs": [],
   "source": [
    "!mkdir {HOME}/datasets\n",
    "%cd {HOME}/datasets\n",
    "\n",
    "!pip install roboflow --quiet\n",
    "\n",
    "from roboflow import Roboflow\n",
    "rf = Roboflow(api_key=\"n12mRmQdWmrjCSKFgJMC\")\n",
    "project = rf.workspace(\"waste-detections-by-fu\").project(\"waste-detections-c0mkz\")\n",
    "version = project.version(6)\n",
    "dataset = version.download(\"yolov8\")"
   ]
  },
  {
   "cell_type": "code",
   "execution_count": null,
   "metadata": {
    "trusted": true
   },
   "outputs": [],
   "source": [
    "dataset.location"
   ]
  },
  {
   "cell_type": "markdown",
   "metadata": {
    "id": "YUjFBKKqXa-u"
   },
   "source": [
    "## Custom Training"
   ]
  },
  {
   "cell_type": "code",
   "execution_count": null,
   "metadata": {},
   "outputs": [],
   "source": [
    "!pip list --outdated"
   ]
  },
  {
   "cell_type": "code",
   "execution_count": null,
   "metadata": {},
   "outputs": [],
   "source": [
    "!pip install --upgrade pip"
   ]
  },
  {
   "cell_type": "code",
   "execution_count": null,
   "metadata": {},
   "outputs": [],
   "source": [
    "!pip list --outdated --format=json | jq -r '.[] | \"\\(.name)==\\(.latest_version)\"'"
   ]
  },
  {
   "cell_type": "code",
   "execution_count": 15,
   "metadata": {
    "execution": {
     "iopub.execute_input": "2025-09-21T08:31:54.674610Z",
     "iopub.status.busy": "2025-09-21T08:31:54.673867Z",
     "iopub.status.idle": "2025-09-21T08:31:54.813737Z",
     "shell.execute_reply": "2025-09-21T08:31:54.813000Z",
     "shell.execute_reply.started": "2025-09-21T08:31:54.674572Z"
    },
    "trusted": true
   },
   "outputs": [
    {
     "name": "stdout",
     "output_type": "stream",
     "text": [
      "names:\n",
      "- Paper\n",
      "- Plastic Bottle\n",
      "- Plastic bag\n",
      "- Plastic waste\n",
      "nc: 4\n",
      "roboflow:\n",
      "  license: CC BY 4.0\n",
      "  project: waste-detections-c0mkz\n",
      "  url: https://universe.roboflow.com/waste-detections-by-fu/waste-detections-c0mkz/dataset/6\n",
      "  version: 6\n",
      "  workspace: waste-detections-by-fu\n",
      "test: ../test/images\n",
      "train: ../train/images\n",
      "val: ../valid/images\n"
     ]
    }
   ],
   "source": [
    "!cat /kaggle/working/datasets/Waste-Detections-6/data.yaml"
   ]
  },
  {
   "cell_type": "code",
   "execution_count": 31,
   "metadata": {
    "execution": {
     "iopub.execute_input": "2025-09-21T11:48:10.053627Z",
     "iopub.status.busy": "2025-09-21T11:48:10.053315Z",
     "iopub.status.idle": "2025-09-21T11:48:10.506260Z",
     "shell.execute_reply": "2025-09-21T11:48:10.505291Z",
     "shell.execute_reply.started": "2025-09-21T11:48:10.053606Z"
    },
    "trusted": true
   },
   "outputs": [],
   "source": [
    "!rm -rf /kaggle/working/runs/detect/train\n",
    "!rm -rf /kaggle/working/runs/detect/predict\n",
    "!rm -rf /kaggle/working/runs/detect/val"
   ]
  },
  {
   "cell_type": "code",
   "execution_count": null,
   "metadata": {},
   "outputs": [],
   "source": [
    "!pip install -U ultralytics"
   ]
  },
  {
   "cell_type": "code",
   "execution_count": null,
   "metadata": {},
   "outputs": [],
   "source": [
    "%cd {HOME}\n",
    "\n",
    "!yolo task=detect mode=train model=yolov8l.pt data={dataset.location}/data.yaml epochs=50 batch=16 imgsz=640 plots=True device=0,1 amp=True save=True\n"
   ]
  },
  {
   "cell_type": "code",
   "execution_count": null,
   "metadata": {
    "trusted": true
   },
   "outputs": [],
   "source": [
    "# !yolo train resume=True model={HOME}/runs/detect/train/weights/last.pt device=0,1 amp=True"
   ]
  },
  {
   "cell_type": "code",
   "execution_count": null,
   "metadata": {},
   "outputs": [],
   "source": [
    "!yolo export model={HOME}/runs/detect/train/weights/best.pt format=coreml nms=True\n",
    "# !yolo export model={HOME}/runs/detect/train3/weights/best.pt format=coreml nms=True"
   ]
  },
  {
   "cell_type": "code",
   "execution_count": null,
   "metadata": {
    "trusted": true
   },
   "outputs": [],
   "source": [
    "# ! yolo train resume model={HOME}/runs/detect/train2/weights/last.pt amp=True"
   ]
  },
  {
   "cell_type": "code",
   "execution_count": 21,
   "metadata": {
    "execution": {
     "iopub.execute_input": "2025-09-21T11:41:18.986189Z",
     "iopub.status.busy": "2025-09-21T11:41:18.985932Z",
     "iopub.status.idle": "2025-09-21T11:41:19.129235Z",
     "shell.execute_reply": "2025-09-21T11:41:19.128370Z",
     "shell.execute_reply.started": "2025-09-21T11:41:18.986167Z"
    },
    "trusted": true
   },
   "outputs": [
    {
     "name": "stdout",
     "output_type": "stream",
     "text": [
      "datasets  dog.jpeg  runs  yolo11n.pt  yolov8l.pt  yolov8n.pt\n"
     ]
    }
   ],
   "source": [
    "!ls"
   ]
  },
  {
   "cell_type": "code",
   "execution_count": null,
   "metadata": {
    "trusted": true
   },
   "outputs": [],
   "source": [
    "# project.version(dataset.version).deploy(model_type=\"yolov8\", model_path=f\"{HOME}/runs/detect/train3/\")"
   ]
  },
  {
   "cell_type": "code",
   "execution_count": 22,
   "metadata": {
    "execution": {
     "iopub.execute_input": "2025-09-21T11:41:45.407880Z",
     "iopub.status.busy": "2025-09-21T11:41:45.407237Z",
     "iopub.status.idle": "2025-09-21T11:41:45.413741Z",
     "shell.execute_reply": "2025-09-21T11:41:45.413105Z",
     "shell.execute_reply.started": "2025-09-21T11:41:45.407852Z"
    },
    "trusted": true
   },
   "outputs": [
    {
     "data": {
      "text/plain": [
       "'6'"
      ]
     },
     "execution_count": 22,
     "metadata": {},
     "output_type": "execute_result"
    }
   ],
   "source": [
    "dataset.version"
   ]
  },
  {
   "cell_type": "code",
   "execution_count": null,
   "metadata": {},
   "outputs": [],
   "source": [
    "!ls {HOME}/runs/detect/train/"
   ]
  },
  {
   "cell_type": "code",
   "execution_count": null,
   "metadata": {},
   "outputs": [],
   "source": [
    "%cd {HOME}\n",
    "Image(filename=f'{HOME}/runs/detect/train/confusion_matrix.png', width=600)"
   ]
  },
  {
   "cell_type": "code",
   "execution_count": null,
   "metadata": {},
   "outputs": [],
   "source": [
    "%cd {HOME}\n",
    "Image(filename=f'{HOME}/runs/detect/train/results.png', width=600)"
   ]
  },
  {
   "cell_type": "code",
   "execution_count": null,
   "metadata": {},
   "outputs": [],
   "source": [
    "%cd {HOME}\n",
    "Image(filename=f'{HOME}/runs/detect/train/val_batch0_pred.jpg', width=600)"
   ]
  },
  {
   "cell_type": "markdown",
   "metadata": {
    "id": "6ODk1VTlevxn"
   },
   "source": [
    "## Validate Custom Model"
   ]
  },
  {
   "cell_type": "code",
   "execution_count": null,
   "metadata": {},
   "outputs": [],
   "source": [
    "%cd {HOME}\n",
    "\n",
    "!yolo task=detect mode=val model={HOME}/runs/detect/train/weights/best.pt data={dataset.location}/data.yaml"
   ]
  },
  {
   "cell_type": "markdown",
   "metadata": {
    "id": "i4eASbcWkQBq"
   },
   "source": [
    "## Inference with Custom Model"
   ]
  },
  {
   "cell_type": "code",
   "execution_count": null,
   "metadata": {},
   "outputs": [],
   "source": [
    "%cd {HOME}\n",
    "!yolo task=detect mode=predict model={HOME}/runs/detect/train/weights/best.pt conf=0.25 source={dataset.location}/test/images save=True"
   ]
  },
  {
   "cell_type": "code",
   "execution_count": null,
   "metadata": {},
   "outputs": [],
   "source": [
    "import glob\n",
    "from IPython.display import Image, display\n",
    "\n",
    "for image_path in glob.glob(f'{HOME}/runs/detect/predict2/*.jpg')[:3]:\n",
    "      display(Image(filename=image_path, width=600))\n",
    "      print(\"\\n\")"
   ]
  },
  {
   "cell_type": "code",
   "execution_count": null,
   "metadata": {},
   "outputs": [],
   "source": [
    "! zip -r yolov8l_recyclablewaste.zip {HOME}/runs/"
   ]
  }
 ],
 "metadata": {
  "accelerator": "GPU",
  "colab": {
   "provenance": [
    {
     "file_id": "https://github.com/roboflow-ai/notebooks/blob/main/notebooks/train-yolov8-object-detection-on-custom-dataset.ipynb",
     "timestamp": 1718873946925
    }
   ]
  },
  "gpuClass": "standard",
  "kaggle": {
   "accelerator": "nvidiaTeslaT4",
   "dataSources": [],
   "dockerImageVersionId": 31091,
   "isGpuEnabled": true,
   "isInternetEnabled": true,
   "language": "python",
   "sourceType": "notebook"
  },
  "kernelspec": {
   "display_name": "Python 3",
   "language": "python",
   "name": "python3"
  },
  "language_info": {
   "codemirror_mode": {
    "name": "ipython",
    "version": 3
   },
   "file_extension": ".py",
   "mimetype": "text/x-python",
   "name": "python",
   "nbconvert_exporter": "python",
   "pygments_lexer": "ipython3",
   "version": "3.11.13"
  }
 },
 "nbformat": 4,
 "nbformat_minor": 4
}
