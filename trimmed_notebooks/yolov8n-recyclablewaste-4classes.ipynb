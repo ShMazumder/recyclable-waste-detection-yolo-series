{
 "cells": [
  {
   "cell_type": "code",
   "execution_count": null,
   "metadata": {},
   "outputs": [],
   "source": [
    "!nvidia-smi"
   ]
  },
  {
   "cell_type": "code",
   "execution_count": 30,
   "metadata": {
    "execution": {
     "iopub.execute_input": "2025-09-20T14:40:58.154712Z",
     "iopub.status.busy": "2025-09-20T14:40:58.154363Z",
     "iopub.status.idle": "2025-09-20T14:40:58.160032Z",
     "shell.execute_reply": "2025-09-20T14:40:58.159144Z",
     "shell.execute_reply.started": "2025-09-20T14:40:58.154683Z"
    },
    "executionInfo": {
     "elapsed": 383,
     "status": "ok",
     "timestamp": 1718878266201,
     "user": {
      "displayName": "Nguyen",
      "userId": "17433902118739490528"
     },
     "user_tz": -420
    },
    "id": "CjpPg4mGKc1v",
    "outputId": "49758e88-798a-4578-af87-a2ad7ffe8042",
    "trusted": true
   },
   "outputs": [
    {
     "name": "stdout",
     "output_type": "stream",
     "text": [
      "/kaggle/working\n"
     ]
    }
   ],
   "source": [
    "import os\n",
    "HOME = os.getcwd()\n",
    "print(HOME)"
   ]
  },
  {
   "cell_type": "code",
   "execution_count": 31,
   "metadata": {
    "execution": {
     "iopub.execute_input": "2025-09-20T14:41:02.507770Z",
     "iopub.status.busy": "2025-09-20T14:41:02.507464Z",
     "iopub.status.idle": "2025-09-20T14:41:11.415556Z",
     "shell.execute_reply": "2025-09-20T14:41:11.414513Z",
     "shell.execute_reply.started": "2025-09-20T14:41:02.507748Z"
    },
    "executionInfo": {
     "elapsed": 76383,
     "status": "ok",
     "timestamp": 1718878350222,
     "user": {
      "displayName": "Nguyen",
      "userId": "17433902118739490528"
     },
     "user_tz": -420
    },
    "id": "tdSMcABDNKW-",
    "outputId": "a3c4531a-32bc-4c9b-b623-38f99e233d03",
    "trusted": true
   },
   "outputs": [
    {
     "name": "stderr",
     "output_type": "stream",
     "text": [
      "Ultralytics YOLOv8.0.196 🚀 Python-3.10.13 torch-2.1.2 CUDA:0 (Tesla T4, 15095MiB)\n",
      "Setup complete ✅ (4 CPUs, 31.4 GB RAM, 6407.7/8062.4 GB disk)\n"
     ]
    }
   ],
   "source": [
    "# Pip install method (recommended)\n",
    "\n",
    "!pip install ultralytics==8.0.196\n",
    "# !pip install ultralytics\n",
    "\n",
    "from IPython import display\n",
    "display.clear_output()\n",
    "\n",
    "import ultralytics\n",
    "ultralytics.checks()"
   ]
  },
  {
   "cell_type": "code",
   "execution_count": 33,
   "metadata": {
    "execution": {
     "iopub.execute_input": "2025-09-20T14:41:37.989337Z",
     "iopub.status.busy": "2025-09-20T14:41:37.988978Z",
     "iopub.status.idle": "2025-09-20T14:41:37.993741Z",
     "shell.execute_reply": "2025-09-20T14:41:37.992772Z",
     "shell.execute_reply.started": "2025-09-20T14:41:37.989311Z"
    },
    "executionInfo": {
     "elapsed": 359,
     "status": "ok",
     "timestamp": 1718878472413,
     "user": {
      "displayName": "Nguyen",
      "userId": "17433902118739490528"
     },
     "user_tz": -420
    },
    "id": "VOEYrlBoP9-E",
    "trusted": true
   },
   "outputs": [],
   "source": [
    "from ultralytics import YOLO\n",
    "\n",
    "from IPython.display import display, Image"
   ]
  },
  {
   "cell_type": "code",
   "execution_count": 34,
   "metadata": {
    "execution": {
     "iopub.execute_input": "2025-09-20T14:41:46.409419Z",
     "iopub.status.busy": "2025-09-20T14:41:46.409091Z",
     "iopub.status.idle": "2025-09-20T14:41:55.617394Z",
     "shell.execute_reply": "2025-09-20T14:41:55.616251Z",
     "shell.execute_reply.started": "2025-09-20T14:41:46.409395Z"
    },
    "executionInfo": {
     "elapsed": 8126,
     "status": "ok",
     "timestamp": 1718878488546,
     "user": {
      "displayName": "Nguyen",
      "userId": "17433902118739490528"
     },
     "user_tz": -420
    },
    "id": "FDbMt_M6PiXb",
    "outputId": "d612c549-2133-4236-d8dd-0a86b15fb6f3",
    "trusted": true
   },
   "outputs": [
    {
     "name": "stdout",
     "output_type": "stream",
     "text": [
      "/kaggle/working\n",
      "Downloading https://github.com/ultralytics/assets/releases/download/v0.0.0/yolov8n.pt to 'yolov8n.pt'...\n",
      "100%|██████████████████████████████████████| 6.23M/6.23M [00:00<00:00, 78.4MB/s]\n",
      "Ultralytics YOLOv8.0.196 🚀 Python-3.10.13 torch-2.1.2 CUDA:0 (Tesla T4, 15095MiB)\n",
      "YOLOv8n summary (fused): 168 layers, 3151904 parameters, 0 gradients, 8.7 GFLOPs\n",
      "\n",
      "Downloading https://media.roboflow.com/notebooks/examples/dog.jpeg to 'dog.jpeg'...\n",
      "100%|████████████████████████████████████████| 104k/104k [00:00<00:00, 36.9MB/s]\n",
      "image 1/1 /kaggle/working/dog.jpeg: 640x384 1 person, 1 car, 1 dog, 74.7ms\n",
      "Speed: 3.2ms preprocess, 74.7ms inference, 172.9ms postprocess per image at shape (1, 3, 640, 384)\n",
      "Results saved to \u001b[1mruns/detect/predict\u001b[0m\n",
      "💡 Learn more at https://docs.ultralytics.com/modes/predict\n"
     ]
    }
   ],
   "source": [
    "%cd {HOME}\n",
    "!yolo task=detect mode=predict model=yolov8n.pt conf=0.25 source='https://media.roboflow.com/notebooks/examples/dog.jpeg' save=True"
   ]
  },
  {
   "cell_type": "code",
   "execution_count": null,
   "metadata": {},
   "outputs": [],
   "source": [
    "%cd {HOME}\n",
    "Image(filename='runs/detect/predict/dog.jpeg', height=600)"
   ]
  },
  {
   "cell_type": "code",
   "execution_count": 36,
   "metadata": {
    "execution": {
     "iopub.execute_input": "2025-09-20T14:42:04.623547Z",
     "iopub.status.busy": "2025-09-20T14:42:04.623218Z",
     "iopub.status.idle": "2025-09-20T14:42:04.808800Z",
     "shell.execute_reply": "2025-09-20T14:42:04.807865Z",
     "shell.execute_reply.started": "2025-09-20T14:42:04.623522Z"
    },
    "executionInfo": {
     "elapsed": 4466,
     "status": "ok",
     "timestamp": 1718874639567,
     "user": {
      "displayName": "Nguyen",
      "userId": "17433902118739490528"
     },
     "user_tz": -420
    },
    "id": "Rx9NWF-sVN6Y",
    "outputId": "8472a872-74eb-4d8a-def3-4d71bcf4a709",
    "trusted": true
   },
   "outputs": [
    {
     "name": "stderr",
     "output_type": "stream",
     "text": [
      "\n",
      "Found https://media.roboflow.com/notebooks/examples/dog.jpeg locally at dog.jpeg\n",
      "image 1/1 /kaggle/working/dog.jpeg: 640x384 1 person, 1 car, 1 dog, 9.4ms\n",
      "Speed: 1.7ms preprocess, 9.4ms inference, 2.0ms postprocess per image at shape (1, 3, 640, 384)\n"
     ]
    }
   ],
   "source": [
    "model = YOLO(f'{HOME}/yolov8n.pt')\n",
    "results = model.predict(source='https://media.roboflow.com/notebooks/examples/dog.jpeg', conf=0.25)"
   ]
  },
  {
   "cell_type": "code",
   "execution_count": 37,
   "metadata": {
    "execution": {
     "iopub.execute_input": "2025-09-20T14:42:11.344786Z",
     "iopub.status.busy": "2025-09-20T14:42:11.344311Z",
     "iopub.status.idle": "2025-09-20T14:42:11.355507Z",
     "shell.execute_reply": "2025-09-20T14:42:11.354498Z",
     "shell.execute_reply.started": "2025-09-20T14:42:11.344750Z"
    },
    "id": "kAi4PvrItTCf",
    "outputId": "3a1a1c21-be10-437f-aa14-4995d5321789",
    "trusted": true
   },
   "outputs": [
    {
     "data": {
      "text/plain": [
       "tensor([[   0.0000,  314.4717,  625.0754, 1278.1946],\n",
       "        [  55.1731,  250.0220,  648.1080, 1266.2720],\n",
       "        [ 633.2291,  719.5391,  701.0538,  786.0336]], device='cuda:0')"
      ]
     },
     "execution_count": 37,
     "metadata": {},
     "output_type": "execute_result"
    }
   ],
   "source": [
    "results[0].boxes.xyxy"
   ]
  },
  {
   "cell_type": "code",
   "execution_count": 38,
   "metadata": {
    "execution": {
     "iopub.execute_input": "2025-09-20T14:42:14.511572Z",
     "iopub.status.busy": "2025-09-20T14:42:14.511244Z",
     "iopub.status.idle": "2025-09-20T14:42:14.519233Z",
     "shell.execute_reply": "2025-09-20T14:42:14.518287Z",
     "shell.execute_reply.started": "2025-09-20T14:42:14.511549Z"
    },
    "id": "HqT2M01K1LUb",
    "outputId": "ac8d0988-8be7-4fec-c62b-2cd8fe9b5371",
    "trusted": true
   },
   "outputs": [
    {
     "data": {
      "text/plain": [
       "tensor([0.7271, 0.2907, 0.2846], device='cuda:0')"
      ]
     },
     "execution_count": 38,
     "metadata": {},
     "output_type": "execute_result"
    }
   ],
   "source": [
    "results[0].boxes.conf"
   ]
  },
  {
   "cell_type": "code",
   "execution_count": 39,
   "metadata": {
    "execution": {
     "iopub.execute_input": "2025-09-20T14:42:16.908477Z",
     "iopub.status.busy": "2025-09-20T14:42:16.907784Z",
     "iopub.status.idle": "2025-09-20T14:42:16.915360Z",
     "shell.execute_reply": "2025-09-20T14:42:16.914524Z",
     "shell.execute_reply.started": "2025-09-20T14:42:16.908449Z"
    },
    "id": "gKIwJ5yw1PMb",
    "outputId": "ee27ea55-240f-43fd-d9a3-e8b8a73149fb",
    "trusted": true
   },
   "outputs": [
    {
     "data": {
      "text/plain": [
       "tensor([ 0., 16.,  2.], device='cuda:0')"
      ]
     },
     "execution_count": 39,
     "metadata": {},
     "output_type": "execute_result"
    }
   ],
   "source": [
    "results[0].boxes.cls"
   ]
  },
  {
   "cell_type": "code",
   "execution_count": 40,
   "metadata": {
    "execution": {
     "iopub.execute_input": "2025-09-20T14:42:29.457419Z",
     "iopub.status.busy": "2025-09-20T14:42:29.456723Z",
     "iopub.status.idle": "2025-09-20T14:42:52.451178Z",
     "shell.execute_reply": "2025-09-20T14:42:52.450368Z",
     "shell.execute_reply.started": "2025-09-20T14:42:29.457391Z"
    },
    "executionInfo": {
     "elapsed": 17330,
     "status": "ok",
     "timestamp": 1718878523301,
     "user": {
      "displayName": "Nguyen",
      "userId": "17433902118739490528"
     },
     "user_tz": -420
    },
    "id": "BSd93ZJzZZKt",
    "outputId": "41f9b195-b9ec-4f0f-8f04-14314799baa7",
    "trusted": true
   },
   "outputs": [
    {
     "name": "stdout",
     "output_type": "stream",
     "text": [
      "/kaggle/working/datasets\n",
      "\u001b[31mERROR: pip's dependency resolver does not currently take into account all the packages that are installed. This behaviour is the source of the following dependency conflicts.\n",
      "spopt 0.6.0 requires shapely>=2.0.1, but you have shapely 1.8.5.post1 which is incompatible.\n",
      "ydata-profiling 4.6.4 requires numpy<1.26,>=1.16.0, but you have numpy 1.26.4 which is incompatible.\u001b[0m\u001b[31m\n",
      "loading Roboflow workspace...\n",
      "loading Roboflow project...\n"
     ]
    },
    {
     "name": "stderr",
     "output_type": "stream",
     "text": [
      "Downloading Dataset Version Zip in Waste-Detections-6 to yolov8:: 100%|██████████| 626132/626132 [00:07<00:00, 78790.99it/s]"
     ]
    },
    {
     "name": "stdout",
     "output_type": "stream",
     "text": [
      "\n"
     ]
    },
    {
     "name": "stderr",
     "output_type": "stream",
     "text": [
      "\n",
      "Extracting Dataset Version Zip to Waste-Detections-6 in yolov8:: 100%|██████████| 14224/14224 [00:02<00:00, 5635.77it/s]\n"
     ]
    }
   ],
   "source": [
    "!mkdir {HOME}/datasets\n",
    "%cd {HOME}/datasets\n",
    "\n",
    "!pip install roboflow --quiet\n",
    "\n",
    "from roboflow import Roboflow\n",
    "rf = Roboflow(api_key=\"n12mRmQdWmrjCSKFgJMC\")\n",
    "project = rf.workspace(\"waste-detections-by-fu\").project(\"waste-detections-c0mkz\")\n",
    "version = project.version(6)\n",
    "dataset = version.download(\"yolov8\")"
   ]
  },
  {
   "cell_type": "code",
   "execution_count": 41,
   "metadata": {
    "execution": {
     "iopub.execute_input": "2025-09-20T14:42:52.453118Z",
     "iopub.status.busy": "2025-09-20T14:42:52.452835Z",
     "iopub.status.idle": "2025-09-20T14:42:52.458900Z",
     "shell.execute_reply": "2025-09-20T14:42:52.458120Z",
     "shell.execute_reply.started": "2025-09-20T14:42:52.453093Z"
    },
    "trusted": true
   },
   "outputs": [
    {
     "data": {
      "text/plain": [
       "'/kaggle/working/datasets/Waste-Detections-6'"
      ]
     },
     "execution_count": 41,
     "metadata": {},
     "output_type": "execute_result"
    }
   ],
   "source": [
    "dataset.location"
   ]
  },
  {
   "cell_type": "markdown",
   "metadata": {
    "id": "YUjFBKKqXa-u"
   },
   "source": [
    "## Custom Training"
   ]
  },
  {
   "cell_type": "code",
   "execution_count": null,
   "metadata": {},
   "outputs": [],
   "source": [
    "%cd {HOME}\n",
    "\n",
    "!yolo task=detect mode=train model=yolov8n.pt data={dataset.location}/data.yaml epochs=50 imgsz=640 plots=True device=0,1 amp=True"
   ]
  },
  {
   "cell_type": "code",
   "execution_count": null,
   "metadata": {
    "execution": {
     "iopub.execute_input": "2024-07-03T03:32:57.09781Z",
     "iopub.status.busy": "2024-07-03T03:32:57.097399Z",
     "iopub.status.idle": "2024-07-03T03:32:57.103171Z",
     "shell.execute_reply": "2024-07-03T03:32:57.102078Z",
     "shell.execute_reply.started": "2024-07-03T03:32:57.097774Z"
    },
    "trusted": true
   },
   "outputs": [],
   "source": [
    "# !yolo train resume=True model={HOME}/runs/detect/train/weights/last.pt device=0,1 amp=True"
   ]
  },
  {
   "cell_type": "code",
   "execution_count": null,
   "metadata": {},
   "outputs": [],
   "source": [
    "!yolo export model={HOME}/runs/detect/train/weights/best.pt format=coreml nms=True\n",
    "# !yolo export model={HOME}/runs/detect/train3/weights/best.pt format=coreml nms=True"
   ]
  },
  {
   "cell_type": "code",
   "execution_count": null,
   "metadata": {
    "execution": {
     "iopub.execute_input": "2024-07-03T04:24:30.226953Z",
     "iopub.status.busy": "2024-07-03T04:24:30.226113Z",
     "iopub.status.idle": "2024-07-03T04:24:30.231579Z",
     "shell.execute_reply": "2024-07-03T04:24:30.230633Z",
     "shell.execute_reply.started": "2024-07-03T04:24:30.226911Z"
    },
    "trusted": true
   },
   "outputs": [],
   "source": [
    "# ! yolo train resume model={HOME}/runs/detect/train2/weights/last.pt amp=True"
   ]
  },
  {
   "cell_type": "code",
   "execution_count": null,
   "metadata": {},
   "outputs": [],
   "source": [
    "! zip -r yolov8n_recyclablewaste.zip {HOME}/runs/"
   ]
  },
  {
   "cell_type": "code",
   "execution_count": 25,
   "metadata": {
    "execution": {
     "iopub.execute_input": "2025-09-20T14:30:01.199358Z",
     "iopub.status.busy": "2025-09-20T14:30:01.199041Z",
     "iopub.status.idle": "2025-09-20T14:30:02.229517Z",
     "shell.execute_reply": "2025-09-20T14:30:02.228653Z",
     "shell.execute_reply.started": "2025-09-20T14:30:01.199334Z"
    },
    "trusted": true
   },
   "outputs": [
    {
     "name": "stdout",
     "output_type": "stream",
     "text": [
      "datasets  dog.jpeg  runs  yolov8n.pt  yolov8n_recyclablewaste.zip\n"
     ]
    }
   ],
   "source": [
    "!ls"
   ]
  },
  {
   "cell_type": "code",
   "execution_count": null,
   "metadata": {
    "execution": {
     "iopub.execute_input": "2024-07-03T04:26:41.698174Z",
     "iopub.status.busy": "2024-07-03T04:26:41.697527Z",
     "iopub.status.idle": "2024-07-03T04:26:42.976584Z",
     "shell.execute_reply": "2024-07-03T04:26:42.975678Z",
     "shell.execute_reply.started": "2024-07-03T04:26:41.698139Z"
    },
    "trusted": true
   },
   "outputs": [],
   "source": [
    "# project.version(dataset.version).deploy(model_type=\"yolov8\", model_path=f\"{HOME}/runs/detect/train3/\")"
   ]
  },
  {
   "cell_type": "code",
   "execution_count": 18,
   "metadata": {
    "execution": {
     "iopub.execute_input": "2025-09-20T14:17:18.533778Z",
     "iopub.status.busy": "2025-09-20T14:17:18.533316Z",
     "iopub.status.idle": "2025-09-20T14:17:18.540129Z",
     "shell.execute_reply": "2025-09-20T14:17:18.539236Z",
     "shell.execute_reply.started": "2025-09-20T14:17:18.533740Z"
    },
    "trusted": true
   },
   "outputs": [
    {
     "data": {
      "text/plain": [
       "'5'"
      ]
     },
     "execution_count": 18,
     "metadata": {},
     "output_type": "execute_result"
    }
   ],
   "source": [
    "dataset.version"
   ]
  },
  {
   "cell_type": "code",
   "execution_count": 19,
   "metadata": {
    "execution": {
     "iopub.execute_input": "2025-09-20T14:17:21.711311Z",
     "iopub.status.busy": "2025-09-20T14:17:21.710949Z",
     "iopub.status.idle": "2025-09-20T14:17:22.739263Z",
     "shell.execute_reply": "2025-09-20T14:17:22.738391Z",
     "shell.execute_reply.started": "2025-09-20T14:17:21.711284Z"
    },
    "executionInfo": {
     "elapsed": 387,
     "status": "ok",
     "timestamp": 1718875245597,
     "user": {
      "displayName": "Nguyen",
      "userId": "17433902118739490528"
     },
     "user_tz": -420
    },
    "id": "1MScstfHhArr",
    "outputId": "606ed734-ae51-472f-e590-b34dd2316990",
    "trusted": true
   },
   "outputs": [
    {
     "name": "stdout",
     "output_type": "stream",
     "text": [
      "ls: cannot access '/kaggle/working/runs/detect/train2/': No such file or directory\n"
     ]
    }
   ],
   "source": [
    "!ls {HOME}/runs/detect/train2/"
   ]
  },
  {
   "cell_type": "code",
   "execution_count": null,
   "metadata": {
    "execution": {
     "iopub.execute_input": "2024-07-03T04:34:26.272871Z",
     "iopub.status.busy": "2024-07-03T04:34:26.272478Z",
     "iopub.status.idle": "2024-07-03T04:34:26.287372Z",
     "shell.execute_reply": "2024-07-03T04:34:26.286203Z",
     "shell.execute_reply.started": "2024-07-03T04:34:26.272838Z"
    },
    "executionInfo": {
     "elapsed": 687,
     "status": "ok",
     "timestamp": 1718875258944,
     "user": {
      "displayName": "Nguyen",
      "userId": "17433902118739490528"
     },
     "user_tz": -420
    },
    "id": "_J35i8Ofhjxa",
    "outputId": "d4605677-957d-468a-f13e-e6c3b4d88896",
    "trusted": true
   },
   "outputs": [],
   "source": [
    "%cd {HOME}\n",
    "Image(filename=f'{HOME}/runs/detect/train3/confusion_matrix.png', width=600)"
   ]
  },
  {
   "cell_type": "code",
   "execution_count": null,
   "metadata": {
    "execution": {
     "iopub.execute_input": "2024-06-26T09:46:51.528489Z",
     "iopub.status.busy": "2024-06-26T09:46:51.527374Z",
     "iopub.status.idle": "2024-06-26T09:46:51.549921Z",
     "shell.execute_reply": "2024-06-26T09:46:51.549037Z",
     "shell.execute_reply.started": "2024-06-26T09:46:51.528448Z"
    },
    "id": "A-urTWUkhRmn",
    "outputId": "836e9053-7035-48ba-ef10-9f7155a329de",
    "trusted": true
   },
   "outputs": [],
   "source": [
    "%cd {HOME}\n",
    "Image(filename=f'{HOME}/runs/detect/train2/results.png', width=600)"
   ]
  },
  {
   "cell_type": "code",
   "execution_count": null,
   "metadata": {
    "id": "HI4nADCCj3F5",
    "outputId": "ad7f1e75-222c-4097-ee6a-edcff68ff723"
   },
   "outputs": [],
   "source": [
    "%cd {HOME}\n",
    "Image(filename=f'{HOME}/runs/detect/train/val_batch0_pred.jpg', width=600)"
   ]
  },
  {
   "cell_type": "markdown",
   "metadata": {
    "id": "6ODk1VTlevxn"
   },
   "source": [
    "## Validate Custom Model"
   ]
  },
  {
   "cell_type": "code",
   "execution_count": null,
   "metadata": {},
   "outputs": [],
   "source": [
    "%cd {HOME}\n",
    "\n",
    "!yolo task=detect mode=val model={HOME}/runs/detect/train/weights/best.pt data={dataset.location}/data.yaml"
   ]
  },
  {
   "cell_type": "markdown",
   "metadata": {
    "id": "i4eASbcWkQBq"
   },
   "source": [
    "## Inference with Custom Model"
   ]
  },
  {
   "cell_type": "code",
   "execution_count": null,
   "metadata": {},
   "outputs": [],
   "source": [
    "%cd {HOME}\n",
    "!yolo task=detect mode=predict model={HOME}/runs/detect/train/weights/best.pt conf=0.25 source={dataset.location}/test/images save=True"
   ]
  },
  {
   "cell_type": "markdown",
   "metadata": {
    "id": "mEYIo95n-I0S"
   },
   "source": [
    "**NOTE:** Let's take a look at few results."
   ]
  },
  {
   "cell_type": "code",
   "execution_count": null,
   "metadata": {},
   "outputs": [],
   "source": [
    "import glob\n",
    "from IPython.display import Image, display\n",
    "\n",
    "for image_path in glob.glob(f'{HOME}/runs/detect/predict2/*.jpg')[:3]:\n",
    "      display(Image(filename=image_path, width=600))\n",
    "      print(\"\\n\")"
   ]
  }
 ],
 "metadata": {
  "accelerator": "GPU",
  "colab": {
   "provenance": [
    {
     "file_id": "https://github.com/roboflow-ai/notebooks/blob/main/notebooks/train-yolov8-object-detection-on-custom-dataset.ipynb",
     "timestamp": 1718873946925
    }
   ]
  },
  "gpuClass": "standard",
  "kaggle": {
   "accelerator": "nvidiaTeslaT4",
   "dataSources": [],
   "dockerImageVersionId": 30733,
   "isGpuEnabled": true,
   "isInternetEnabled": true,
   "language": "python",
   "sourceType": "notebook"
  },
  "kernelspec": {
   "display_name": "Python 3",
   "language": "python",
   "name": "python3"
  },
  "language_info": {
   "codemirror_mode": {
    "name": "ipython",
    "version": 3
   },
   "file_extension": ".py",
   "mimetype": "text/x-python",
   "name": "python",
   "nbconvert_exporter": "python",
   "pygments_lexer": "ipython3",
   "version": "3.10.13"
  }
 },
 "nbformat": 4,
 "nbformat_minor": 4
}
